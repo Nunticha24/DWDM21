{
  "nbformat": 4,
  "nbformat_minor": 0,
  "metadata": {
    "colab": {
      "name": "Chapter7Classification(KNN_NN).ipynb",
      "provenance": [],
      "authorship_tag": "ABX9TyP3agf18AvvBd3emhoFaAA7",
      "include_colab_link": true
    },
    "kernelspec": {
      "name": "python3",
      "display_name": "Python 3"
    },
    "language_info": {
      "name": "python"
    }
  },
  "cells": [
    {
      "cell_type": "markdown",
      "metadata": {
        "id": "view-in-github",
        "colab_type": "text"
      },
      "source": [
        "<a href=\"https://colab.research.google.com/github/Nunticha24/DWDM21/blob/main/Chapter7Classification(KNN_NN).ipynb\" target=\"_parent\"><img src=\"https://colab.research.google.com/assets/colab-badge.svg\" alt=\"Open In Colab\"/></a>"
      ]
    },
    {
      "cell_type": "markdown",
      "metadata": {
        "id": "zoa9ffowelZj"
      },
      "source": [
        "#**Losd data**"
      ]
    },
    {
      "cell_type": "code",
      "metadata": {
        "id": "2P6qrjIdeerh"
      },
      "source": [
        "from sklearn import datasets\n",
        "\n",
        "digit_data = datasets.load_digits()\n",
        "X = digit_data['data']\n",
        "y = digit_data['target']"
      ],
      "execution_count": 1,
      "outputs": []
    },
    {
      "cell_type": "code",
      "metadata": {
        "id": "Blj36sWWeq1V"
      },
      "source": [
        "from sklearn.model_selection import train_test_split\n",
        "\n",
        "#Train - Test\n",
        "X_train, X_test, y_train, y_test = train_test_split(X, y, test_size=0.5, random_state=6)\n",
        "\n",
        "\n",
        "#Train - Validation\n",
        "X_train2, X_val, y_train2, y_val = train_test_split(X_train, y_train, test_size=0.3, random_state=6)"
      ],
      "execution_count": 2,
      "outputs": []
    },
    {
      "cell_type": "markdown",
      "metadata": {
        "id": "H0NTems6etVQ"
      },
      "source": [
        "##**Train Modelt**"
      ]
    },
    {
      "cell_type": "markdown",
      "metadata": {
        "id": "bmLCokmvG61v"
      },
      "source": [
        "###**import**"
      ]
    },
    {
      "cell_type": "code",
      "metadata": {
        "id": "HXgKbGbFG9j0"
      },
      "source": [
        "from sklearn.neighbors import KNeighborsClassifier\n",
        "from sklearn.metrics import accuracy_score"
      ],
      "execution_count": 3,
      "outputs": []
    },
    {
      "cell_type": "markdown",
      "metadata": {
        "id": "e1ARhyPUe3dY"
      },
      "source": [
        "##**Knn1**"
      ]
    },
    {
      "cell_type": "code",
      "metadata": {
        "id": "S2qsvIqTG_N7"
      },
      "source": [
        "#Define\n",
        "neigh1 = KNeighborsClassifier(n_neighbors=3, weights='uniform') #เพื่อนบ้าน 3 คน ถามเพื่อนบ้านที่ใกล้สุด 3 คน และเชื่อทุกคนเท่ากัน"
      ],
      "execution_count": 4,
      "outputs": []
    },
    {
      "cell_type": "code",
      "metadata": {
        "id": "AZuqpu02HD3G",
        "outputId": "173173cf-30b3-44b2-966b-d4af2963edcb",
        "colab": {
          "base_uri": "https://localhost:8080/"
        }
      },
      "source": [
        "#Train\n",
        "neigh1.fit(X_train2,y_train2)"
      ],
      "execution_count": 5,
      "outputs": [
        {
          "output_type": "execute_result",
          "data": {
            "text/plain": [
              "KNeighborsClassifier(algorithm='auto', leaf_size=30, metric='minkowski',\n",
              "                     metric_params=None, n_jobs=None, n_neighbors=3, p=2,\n",
              "                     weights='uniform')"
            ]
          },
          "metadata": {},
          "execution_count": 5
        }
      ]
    },
    {
      "cell_type": "code",
      "metadata": {
        "id": "PehyVeHOHFxe",
        "outputId": "374ed829-5c17-40c7-8e82-ffe9d90808d4",
        "colab": {
          "base_uri": "https://localhost:8080/"
        }
      },
      "source": [
        "knn1_result = neigh1.predict(X_val)\n",
        "accuracy_score(y_val,knn1_result)"
      ],
      "execution_count": 6,
      "outputs": [
        {
          "output_type": "execute_result",
          "data": {
            "text/plain": [
              "0.9703703703703703"
            ]
          },
          "metadata": {},
          "execution_count": 6
        }
      ]
    },
    {
      "cell_type": "markdown",
      "metadata": {
        "id": "Eod-87QofIpA"
      },
      "source": [
        "##**Knn2**"
      ]
    },
    {
      "cell_type": "code",
      "metadata": {
        "id": "GYZpLtiFHH4s",
        "outputId": "67a9fe55-9fc5-46ce-9d07-0f0a9ce4313c",
        "colab": {
          "base_uri": "https://localhost:8080/"
        }
      },
      "source": [
        "#Define\n",
        "neigh2 = KNeighborsClassifier(n_neighbors=10, weights='distance') #เพื่อนบ้าน 10 คน ถามเพื่อนบ้านที่ใกล้สุด 10 คน และเชื่อคนใกล้มากกว่าคนไกล\n",
        "#Train\n",
        "neigh2.fit(X_train2,y_train2)\n",
        "#Test\n",
        "knn2_result = neigh2.predict(X_val)\n",
        "accuracy_score(y_val, knn2_result)"
      ],
      "execution_count": 7,
      "outputs": [
        {
          "output_type": "execute_result",
          "data": {
            "text/plain": [
              "0.9703703703703703"
            ]
          },
          "metadata": {},
          "execution_count": 7
        }
      ]
    },
    {
      "cell_type": "markdown",
      "metadata": {
        "id": "vQa1fpAaflCc"
      },
      "source": [
        "##**Knn3**"
      ]
    },
    {
      "cell_type": "code",
      "metadata": {
        "id": "31BTIW1CHLbN",
        "outputId": "f5536156-1bc0-4364-c385-52b60ca007d0",
        "colab": {
          "base_uri": "https://localhost:8080/"
        }
      },
      "source": [
        "#Define\n",
        "neigh3 = KNeighborsClassifier(n_neighbors=1) #เชื่อเพื่อนบ้านที่ใกล้ที่สุดคนเดียว\n",
        "#Train\n",
        "neigh3.fit(X_train2,y_train2)\n",
        "#Test\n",
        "knn3_result = neigh3.predict(X_val)\n",
        "accuracy_score(y_val, knn3_result)"
      ],
      "execution_count": 8,
      "outputs": [
        {
          "output_type": "execute_result",
          "data": {
            "text/plain": [
              "0.9777777777777777"
            ]
          },
          "metadata": {},
          "execution_count": 8
        }
      ]
    },
    {
      "cell_type": "markdown",
      "metadata": {
        "id": "BM0UKx-jfwj-"
      },
      "source": [
        "#**Retrain & Evaluate**"
      ]
    },
    {
      "cell_type": "code",
      "metadata": {
        "id": "gxPxGVRsHOfM",
        "outputId": "86f727dd-49e2-4369-b563-66282491cf48",
        "colab": {
          "base_uri": "https://localhost:8080/"
        }
      },
      "source": [
        "#Define\n",
        "neigh3_final = KNeighborsClassifier(n_neighbors=1)\n",
        "#Train\n",
        "neigh3_final.fit(X_train,y_train)\n",
        "#Evaluate(การวัดผล)\n",
        "knn3final_result = neigh3_final.predict(X_test)\n",
        "accuracy_score(y_test, knn3final_result)"
      ],
      "execution_count": 9,
      "outputs": [
        {
          "output_type": "execute_result",
          "data": {
            "text/plain": [
              "0.982202447163515"
            ]
          },
          "metadata": {},
          "execution_count": 9
        }
      ]
    },
    {
      "cell_type": "markdown",
      "metadata": {
        "id": "Pd6g0IcrgKyg"
      },
      "source": [
        "#**Neural Network**"
      ]
    },
    {
      "cell_type": "markdown",
      "metadata": {
        "id": "1SEoIA2QHRbg"
      },
      "source": [
        "###**import**"
      ]
    },
    {
      "cell_type": "code",
      "metadata": {
        "id": "a2ek8ndxgNHs"
      },
      "source": [
        "from sklearn.neural_network import MLPClassifier"
      ],
      "execution_count": 10,
      "outputs": []
    },
    {
      "cell_type": "markdown",
      "metadata": {
        "id": "GhG2DUNoHWS6"
      },
      "source": [
        "##**ANN1**"
      ]
    },
    {
      "cell_type": "code",
      "metadata": {
        "id": "HLrMKQjGHY5n"
      },
      "source": [
        "perceptron1 = MLPClassifier(random_state=6, max_iter=2000, hidden_layer_sizes=1,learning_rate_init=0.005)"
      ],
      "execution_count": 11,
      "outputs": []
    },
    {
      "cell_type": "code",
      "metadata": {
        "id": "zmEYvUfgHaOe",
        "outputId": "83393480-25f0-439b-a0bc-faa961834b9a",
        "colab": {
          "base_uri": "https://localhost:8080/"
        }
      },
      "source": [
        "#Train\n",
        "perceptron1.fit(X_train2,y_train2)\n",
        "#Test\n",
        "ann1_result = perceptron1.predict(X_val)\n",
        "accuracy_score(y_val, ann1_result)"
      ],
      "execution_count": 12,
      "outputs": [
        {
          "output_type": "execute_result",
          "data": {
            "text/plain": [
              "0.2777777777777778"
            ]
          },
          "metadata": {},
          "execution_count": 12
        }
      ]
    },
    {
      "cell_type": "markdown",
      "metadata": {
        "id": "OrKGMrilHdaM"
      },
      "source": [
        "##**ANN2**"
      ]
    },
    {
      "cell_type": "code",
      "metadata": {
        "id": "VO8OXQYuHg-C",
        "outputId": "de101d53-bda6-4ec0-9ea8-facd317cbcb3",
        "colab": {
          "base_uri": "https://localhost:8080/"
        }
      },
      "source": [
        "perceptron2 = MLPClassifier(random_state=6, max_iter=2000, hidden_layer_sizes=10,learning_rate_init=0.005)\n",
        "# Train\n",
        "perceptron2.fit(X_train2,y_train2)\n",
        "# Test\n",
        "ann2_result = perceptron2.predict(X_val)\n",
        "accuracy_score(y_val, ann2_result)"
      ],
      "execution_count": 13,
      "outputs": [
        {
          "output_type": "execute_result",
          "data": {
            "text/plain": [
              "0.9185185185185185"
            ]
          },
          "metadata": {},
          "execution_count": 13
        }
      ]
    },
    {
      "cell_type": "markdown",
      "metadata": {
        "id": "FAICmrQPHfha"
      },
      "source": [
        "##**ANN3**"
      ]
    },
    {
      "cell_type": "code",
      "metadata": {
        "id": "pRZ2_8vxHi5B",
        "outputId": "47354f63-9988-4d65-e120-401dc7f203f5",
        "colab": {
          "base_uri": "https://localhost:8080/"
        }
      },
      "source": [
        "perceptron3 = MLPClassifier(random_state=6, max_iter=20000, hidden_layer_sizes=10,learning_rate_init=0.001)\n",
        "# Train\n",
        "perceptron3.fit(X_train2,y_train2)\n",
        "# Test\n",
        "ann3_result = perceptron3.predict(X_val)\n",
        "accuracy_score(y_val, ann3_result)"
      ],
      "execution_count": 14,
      "outputs": [
        {
          "output_type": "execute_result",
          "data": {
            "text/plain": [
              "0.9444444444444444"
            ]
          },
          "metadata": {},
          "execution_count": 14
        }
      ]
    },
    {
      "cell_type": "code",
      "metadata": {
        "id": "u77BtZTVHkJ8"
      },
      "source": [
        ""
      ],
      "execution_count": 14,
      "outputs": []
    }
  ]
}