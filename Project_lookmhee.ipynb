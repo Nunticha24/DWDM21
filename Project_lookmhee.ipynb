{
  "nbformat": 4,
  "nbformat_minor": 0,
  "metadata": {
    "colab": {
      "name": "Project_lookmhee.ipynb",
      "provenance": [],
      "authorship_tag": "ABX9TyN1mZRdC6iR7pgyG0Frc6Z9",
      "include_colab_link": true
    },
    "kernelspec": {
      "name": "python3",
      "display_name": "Python 3"
    },
    "language_info": {
      "name": "python"
    }
  },
  "cells": [
    {
      "cell_type": "markdown",
      "metadata": {
        "id": "view-in-github",
        "colab_type": "text"
      },
      "source": [
        "<a href=\"https://colab.research.google.com/github/Nunticha24/DWDM21/blob/main/Project_lookmhee.ipynb\" target=\"_parent\"><img src=\"https://colab.research.google.com/assets/colab-badge.svg\" alt=\"Open In Colab\"/></a>"
      ]
    },
    {
      "cell_type": "markdown",
      "metadata": {
        "id": "l0u98q3vUiHv"
      },
      "source": [
        "https://drive.google.com/drive/folders/1w0Qa-87_WwnjG-h0EviToTfGfjkUD8gs?usp=sharing"
      ]
    },
    {
      "cell_type": "markdown",
      "metadata": {
        "id": "r318nYWbpzS1"
      },
      "source": [
        "**ปัญหา** : เราไม่สามารถพยากรณ์ข้อมูลปีต่อๆไปได้ เนื่องจากยังไม่ทราบความสัมพันธ์ของข้อมูลปัจจุบันที่มีอยู่\n",
        "\n",
        "**วัตถุประสงค์** : ศึกษาความสัมพันธ์ของตารางที่ 1 ถึง 4 ว่าความสัมพันธ์ที่ได้จากการคาดเดาปีต่อๆไปเป็นยังไง?\n"
      ]
    },
    {
      "cell_type": "code",
      "metadata": {
        "id": "fsSzHNNhFSY-"
      },
      "source": [
        "import pandas as pd\n",
        "import os"
      ],
      "execution_count": 1,
      "outputs": []
    },
    {
      "cell_type": "code",
      "metadata": {
        "id": "XeDe7o3OFVNH",
        "colab": {
          "base_uri": "https://localhost:8080/"
        },
        "outputId": "70e4fc95-d951-46fc-a71a-a3add19e5ceb"
      },
      "source": [
        "from google.colab import drive\n",
        "drive.mount('/content/drive')"
      ],
      "execution_count": 2,
      "outputs": [
        {
          "output_type": "stream",
          "name": "stdout",
          "text": [
            "Drive already mounted at /content/drive; to attempt to forcibly remount, call drive.mount(\"/content/drive\", force_remount=True).\n"
          ]
        }
      ]
    },
    {
      "cell_type": "code",
      "metadata": {
        "id": "PDE3A0BzFWrt"
      },
      "source": [
        "path = '/content/drive/My Drive/PROJECT_DWDM'"
      ],
      "execution_count": 3,
      "outputs": []
    },
    {
      "cell_type": "markdown",
      "metadata": {
        "id": "2IWVzRa0nkRv"
      },
      "source": [
        "#**ข้อมูลชุดที่ 1 จำนวนผู้ลงทะเบียนใช้บริการอินเทอร์เน็ตความเร็วสูง**\n",
        "\n",
        "https://data.go.th/dataset/broadband-subscribers?fbclid=IwAR2hJLTNGiEnMNwRApUdbzzaFUj-1_Ag7HWgdZPxX-oaEKw2PBU0_W3-_m0\n",
        "\n",
        "องค์กร สำนักงานคณะกรรมการกิจการกระจายเสียง กิจการโทรทัศน์ และกิจการโทรคมนาคมแห่งชาติ"
      ]
    },
    {
      "cell_type": "markdown",
      "metadata": {
        "id": "izToglmGU7FV"
      },
      "source": [
        "**คำอธิบายตาราง**\n",
        "\n",
        "* no. คือ ลำดับ\n",
        "* quarter คือ ไตรมาส (4 ไตรมาส)\n",
        "* Thailand Internet Users_subscriber คือ ประเภท\n",
        "* year คือ ปี\n",
        "* value_subscriber คือ จำนวนผู้ลงทะเบียนใช้บริการอินเทอร์เน็ตความเร็วสูง"
      ]
    },
    {
      "cell_type": "code",
      "metadata": {
        "id": "-iFeeajsFYdQ",
        "colab": {
          "base_uri": "https://localhost:8080/",
          "height": 417
        },
        "outputId": "b626ca59-7b21-435e-e94a-dfb96b073eef"
      },
      "source": [
        "data_subscriber = pd.read_csv(os.path.join(path,'10broadband-subscribers.csv')) #จำนวนผู้ลงทะเบียนใช้บริการอินเทอร์เน็ตความเร็วสูงเก็บไว้ในตัวแปร data_subscriber\n",
        "data_subscriber"
      ],
      "execution_count": 4,
      "outputs": [
        {
          "output_type": "execute_result",
          "data": {
            "text/html": [
              "<div>\n",
              "<style scoped>\n",
              "    .dataframe tbody tr th:only-of-type {\n",
              "        vertical-align: middle;\n",
              "    }\n",
              "\n",
              "    .dataframe tbody tr th {\n",
              "        vertical-align: top;\n",
              "    }\n",
              "\n",
              "    .dataframe thead th {\n",
              "        text-align: right;\n",
              "    }\n",
              "</style>\n",
              "<table border=\"1\" class=\"dataframe\">\n",
              "  <thead>\n",
              "    <tr style=\"text-align: right;\">\n",
              "      <th></th>\n",
              "      <th>no.</th>\n",
              "      <th>quarter</th>\n",
              "      <th>Thailand Internet Users_subscriber</th>\n",
              "      <th>year</th>\n",
              "      <th>value_subscriber</th>\n",
              "    </tr>\n",
              "  </thead>\n",
              "  <tbody>\n",
              "    <tr>\n",
              "      <th>0</th>\n",
              "      <td>4</td>\n",
              "      <td>4</td>\n",
              "      <td>Total Internet subscribers</td>\n",
              "      <td>2003</td>\n",
              "      <td>652726.00</td>\n",
              "    </tr>\n",
              "    <tr>\n",
              "      <th>1</th>\n",
              "      <td>3</td>\n",
              "      <td>3</td>\n",
              "      <td>Total Internet subscribers</td>\n",
              "      <td>2003</td>\n",
              "      <td>529530.00</td>\n",
              "    </tr>\n",
              "    <tr>\n",
              "      <th>2</th>\n",
              "      <td>2</td>\n",
              "      <td>2</td>\n",
              "      <td>Total Internet subscribers</td>\n",
              "      <td>2003</td>\n",
              "      <td>453043.00</td>\n",
              "    </tr>\n",
              "    <tr>\n",
              "      <th>3</th>\n",
              "      <td>1</td>\n",
              "      <td>1</td>\n",
              "      <td>Total Internet subscribers</td>\n",
              "      <td>2003</td>\n",
              "      <td>365219.00</td>\n",
              "    </tr>\n",
              "    <tr>\n",
              "      <th>4</th>\n",
              "      <td>8</td>\n",
              "      <td>4</td>\n",
              "      <td>Total Internet subscribers</td>\n",
              "      <td>2004</td>\n",
              "      <td>1231344.00</td>\n",
              "    </tr>\n",
              "    <tr>\n",
              "      <th>...</th>\n",
              "      <td>...</td>\n",
              "      <td>...</td>\n",
              "      <td>...</td>\n",
              "      <td>...</td>\n",
              "      <td>...</td>\n",
              "    </tr>\n",
              "    <tr>\n",
              "      <th>68</th>\n",
              "      <td>72</td>\n",
              "      <td>4</td>\n",
              "      <td>Total Internet subscribers</td>\n",
              "      <td>2020</td>\n",
              "      <td>11478264.92</td>\n",
              "    </tr>\n",
              "    <tr>\n",
              "      <th>69</th>\n",
              "      <td>71</td>\n",
              "      <td>3</td>\n",
              "      <td>Total Internet subscribers</td>\n",
              "      <td>2020</td>\n",
              "      <td>11282645.58</td>\n",
              "    </tr>\n",
              "    <tr>\n",
              "      <th>70</th>\n",
              "      <td>70</td>\n",
              "      <td>2</td>\n",
              "      <td>Total Internet subscribers</td>\n",
              "      <td>2020</td>\n",
              "      <td>10912996.14</td>\n",
              "    </tr>\n",
              "    <tr>\n",
              "      <th>71</th>\n",
              "      <td>69</td>\n",
              "      <td>1</td>\n",
              "      <td>Total Internet subscribers</td>\n",
              "      <td>2020</td>\n",
              "      <td>10264995.67</td>\n",
              "    </tr>\n",
              "    <tr>\n",
              "      <th>72</th>\n",
              "      <td>73</td>\n",
              "      <td>1</td>\n",
              "      <td>Total Internet subscribers</td>\n",
              "      <td>2021</td>\n",
              "      <td>11876158.44</td>\n",
              "    </tr>\n",
              "  </tbody>\n",
              "</table>\n",
              "<p>73 rows × 5 columns</p>\n",
              "</div>"
            ],
            "text/plain": [
              "    no.  quarter Thailand Internet Users_subscriber  year  value_subscriber\n",
              "0     4        4         Total Internet subscribers  2003         652726.00\n",
              "1     3        3         Total Internet subscribers  2003         529530.00\n",
              "2     2        2         Total Internet subscribers  2003         453043.00\n",
              "3     1        1         Total Internet subscribers  2003         365219.00\n",
              "4     8        4         Total Internet subscribers  2004        1231344.00\n",
              "..  ...      ...                                ...   ...               ...\n",
              "68   72        4         Total Internet subscribers  2020       11478264.92\n",
              "69   71        3         Total Internet subscribers  2020       11282645.58\n",
              "70   70        2         Total Internet subscribers  2020       10912996.14\n",
              "71   69        1         Total Internet subscribers  2020       10264995.67\n",
              "72   73        1         Total Internet subscribers  2021       11876158.44\n",
              "\n",
              "[73 rows x 5 columns]"
            ]
          },
          "metadata": {},
          "execution_count": 4
        }
      ]
    },
    {
      "cell_type": "markdown",
      "metadata": {
        "id": "fDzUaCsLoJ2L"
      },
      "source": [
        "#**ข้อมูลชุดที่ 2 อัตราการเข้าถึงของบริการอินเทอร์เน็ตความเร็วสูงต่อจำนวนครัวเรือน**\n",
        "\n",
        "https://data.go.th/dataset/broadband-penetration-per-household?fbclid=IwAR0tNweDa7pmiAaygo0Z88iFFIYLtQRFjujfaIyEpUub_bFVQEkcCbXAZJc\n",
        "\n",
        "องค์กร สำนักงานคณะกรรมการกิจการกระจายเสียง กิจการโทรทัศน์ และกิจการโทรคมนาคมแห่งชาติ\n",
        "\n"
      ]
    },
    {
      "cell_type": "markdown",
      "metadata": {
        "id": "NfYtMQq6VMI5"
      },
      "source": [
        "**คำอธิบายตาราง**\n",
        "\n",
        "* no. คือ ลำดับ\n",
        "* type_household คือ ประเภท\n",
        "* quarter คือ ไตรมาส (4 ไตรมาส)\n",
        "* year คือ ปี\n",
        "* value_household คือ อัตราการเข้าถึงของบริการอินเทอร์เน็ตความเร็วสูงต่อจำนวนครัวเรือน"
      ]
    },
    {
      "cell_type": "code",
      "metadata": {
        "id": "J7fM2ZqkoPB8",
        "colab": {
          "base_uri": "https://localhost:8080/",
          "height": 417
        },
        "outputId": "494d2026-1160-4d89-99a7-eb363d33d87b"
      },
      "source": [
        "data_household = pd.read_csv(os.path.join(path,'12broadband-penetration-per-household-.csv')) #อัตราการเข้าถึงของบริการอินเทอร์เน็ตความเร็วสูงต่อจำนวนครัวเรือนเก็บไว้ในตัวแปร data_household\n",
        "data_household"
      ],
      "execution_count": 5,
      "outputs": [
        {
          "output_type": "execute_result",
          "data": {
            "text/html": [
              "<div>\n",
              "<style scoped>\n",
              "    .dataframe tbody tr th:only-of-type {\n",
              "        vertical-align: middle;\n",
              "    }\n",
              "\n",
              "    .dataframe tbody tr th {\n",
              "        vertical-align: top;\n",
              "    }\n",
              "\n",
              "    .dataframe thead th {\n",
              "        text-align: right;\n",
              "    }\n",
              "</style>\n",
              "<table border=\"1\" class=\"dataframe\">\n",
              "  <thead>\n",
              "    <tr style=\"text-align: right;\">\n",
              "      <th></th>\n",
              "      <th>no.</th>\n",
              "      <th>type_household</th>\n",
              "      <th>quarter</th>\n",
              "      <th>year</th>\n",
              "      <th>value_household</th>\n",
              "    </tr>\n",
              "  </thead>\n",
              "  <tbody>\n",
              "    <tr>\n",
              "      <th>0</th>\n",
              "      <td>4</td>\n",
              "      <td>per household (%)</td>\n",
              "      <td>4</td>\n",
              "      <td>2003</td>\n",
              "      <td>0.000649</td>\n",
              "    </tr>\n",
              "    <tr>\n",
              "      <th>1</th>\n",
              "      <td>3</td>\n",
              "      <td>per household (%)</td>\n",
              "      <td>3</td>\n",
              "      <td>2003</td>\n",
              "      <td>0.000459</td>\n",
              "    </tr>\n",
              "    <tr>\n",
              "      <th>2</th>\n",
              "      <td>2</td>\n",
              "      <td>per household (%)</td>\n",
              "      <td>2</td>\n",
              "      <td>2003</td>\n",
              "      <td>0.000343</td>\n",
              "    </tr>\n",
              "    <tr>\n",
              "      <th>3</th>\n",
              "      <td>1</td>\n",
              "      <td>per household (%)</td>\n",
              "      <td>1</td>\n",
              "      <td>2003</td>\n",
              "      <td>0.000281</td>\n",
              "    </tr>\n",
              "    <tr>\n",
              "      <th>4</th>\n",
              "      <td>8</td>\n",
              "      <td>per household (%)</td>\n",
              "      <td>4</td>\n",
              "      <td>2004</td>\n",
              "      <td>0.008716</td>\n",
              "    </tr>\n",
              "    <tr>\n",
              "      <th>...</th>\n",
              "      <td>...</td>\n",
              "      <td>...</td>\n",
              "      <td>...</td>\n",
              "      <td>...</td>\n",
              "      <td>...</td>\n",
              "    </tr>\n",
              "    <tr>\n",
              "      <th>68</th>\n",
              "      <td>72</td>\n",
              "      <td>per household (%)</td>\n",
              "      <td>4</td>\n",
              "      <td>2020</td>\n",
              "      <td>0.514683</td>\n",
              "    </tr>\n",
              "    <tr>\n",
              "      <th>69</th>\n",
              "      <td>71</td>\n",
              "      <td>per household (%)</td>\n",
              "      <td>3</td>\n",
              "      <td>2020</td>\n",
              "      <td>0.515873</td>\n",
              "    </tr>\n",
              "    <tr>\n",
              "      <th>70</th>\n",
              "      <td>70</td>\n",
              "      <td>per household (%)</td>\n",
              "      <td>2</td>\n",
              "      <td>2020</td>\n",
              "      <td>0.498972</td>\n",
              "    </tr>\n",
              "    <tr>\n",
              "      <th>71</th>\n",
              "      <td>69</td>\n",
              "      <td>per household (%)</td>\n",
              "      <td>1</td>\n",
              "      <td>2020</td>\n",
              "      <td>0.469344</td>\n",
              "    </tr>\n",
              "    <tr>\n",
              "      <th>72</th>\n",
              "      <td>73</td>\n",
              "      <td>per household (%)</td>\n",
              "      <td>1</td>\n",
              "      <td>2021</td>\n",
              "      <td>0.532524</td>\n",
              "    </tr>\n",
              "  </tbody>\n",
              "</table>\n",
              "<p>73 rows × 5 columns</p>\n",
              "</div>"
            ],
            "text/plain": [
              "    no.     type_household  quarter  year  value_household\n",
              "0     4  per household (%)        4  2003         0.000649\n",
              "1     3  per household (%)        3  2003         0.000459\n",
              "2     2  per household (%)        2  2003         0.000343\n",
              "3     1  per household (%)        1  2003         0.000281\n",
              "4     8  per household (%)        4  2004         0.008716\n",
              "..  ...                ...      ...   ...              ...\n",
              "68   72  per household (%)        4  2020         0.514683\n",
              "69   71  per household (%)        3  2020         0.515873\n",
              "70   70  per household (%)        2  2020         0.498972\n",
              "71   69  per household (%)        1  2020         0.469344\n",
              "72   73  per household (%)        1  2021         0.532524\n",
              "\n",
              "[73 rows x 5 columns]"
            ]
          },
          "metadata": {},
          "execution_count": 5
        }
      ]
    },
    {
      "cell_type": "markdown",
      "metadata": {
        "id": "3ATHxp2Aoo1I"
      },
      "source": [
        "#**ข้อมูลชุดที่ 3 อัตราการเข้าถึงของบริการอินเทอร์เน็ตความเร็วสูงต่อจำนวนประชากร**\n",
        "\n",
        "https://data.go.th/dataset/broadband-penetration-per-population?fbclid=IwAR0D5Z4yxZOXJYPM9hgBJpAVbuWBkxwNzEdW_jWwlvvkCKQxaGERqrxffFs\n",
        "\n",
        "องค์กร สำนักงานคณะกรรมการกิจการกระจายเสียง กิจการโทรทัศน์ และกิจการโทรคมนาคมแห่งชาติ"
      ]
    },
    {
      "cell_type": "markdown",
      "metadata": {
        "id": "FVkds4I8VU04"
      },
      "source": [
        "**คำอธิบายตาราง**\n",
        "\n",
        "* no. คือ ลำดับ\n",
        "* type_population คือ ประเภท\n",
        "* quarter คือ ไตรมาส (4 ไตรมาส)\n",
        "* year คือ ปี\n",
        "*value_population คือ อัตราการเข้าถึงของบริการอินเทอร์เน็ตความเร็วสูงต่อจำนวนประชากร"
      ]
    },
    {
      "cell_type": "code",
      "metadata": {
        "id": "0cWCaYdEotpW",
        "colab": {
          "base_uri": "https://localhost:8080/",
          "height": 417
        },
        "outputId": "0d892547-0546-470d-d899-d21c472fec94"
      },
      "source": [
        "data_population = pd.read_csv(os.path.join(path,'11broadband-penetration-per-population-.csv'))  #อัตราการเข้าถึงของบริการอินเทอร์เน็ตความเร็วสูงต่อจำนวนประชากร ชื่อ data_population\n",
        "data_population"
      ],
      "execution_count": 6,
      "outputs": [
        {
          "output_type": "execute_result",
          "data": {
            "text/html": [
              "<div>\n",
              "<style scoped>\n",
              "    .dataframe tbody tr th:only-of-type {\n",
              "        vertical-align: middle;\n",
              "    }\n",
              "\n",
              "    .dataframe tbody tr th {\n",
              "        vertical-align: top;\n",
              "    }\n",
              "\n",
              "    .dataframe thead th {\n",
              "        text-align: right;\n",
              "    }\n",
              "</style>\n",
              "<table border=\"1\" class=\"dataframe\">\n",
              "  <thead>\n",
              "    <tr style=\"text-align: right;\">\n",
              "      <th></th>\n",
              "      <th>no.</th>\n",
              "      <th>type_population</th>\n",
              "      <th>quarter</th>\n",
              "      <th>year</th>\n",
              "      <th>value_population</th>\n",
              "    </tr>\n",
              "  </thead>\n",
              "  <tbody>\n",
              "    <tr>\n",
              "      <th>0</th>\n",
              "      <td>1</td>\n",
              "      <td>per population (%)</td>\n",
              "      <td>1</td>\n",
              "      <td>2003</td>\n",
              "      <td>0.0001</td>\n",
              "    </tr>\n",
              "    <tr>\n",
              "      <th>1</th>\n",
              "      <td>2</td>\n",
              "      <td>per population (%)</td>\n",
              "      <td>2</td>\n",
              "      <td>2003</td>\n",
              "      <td>0.0001</td>\n",
              "    </tr>\n",
              "    <tr>\n",
              "      <th>2</th>\n",
              "      <td>3</td>\n",
              "      <td>per population (%)</td>\n",
              "      <td>3</td>\n",
              "      <td>2003</td>\n",
              "      <td>0.0001</td>\n",
              "    </tr>\n",
              "    <tr>\n",
              "      <th>3</th>\n",
              "      <td>4</td>\n",
              "      <td>per population (%)</td>\n",
              "      <td>4</td>\n",
              "      <td>2003</td>\n",
              "      <td>0.0002</td>\n",
              "    </tr>\n",
              "    <tr>\n",
              "      <th>4</th>\n",
              "      <td>5</td>\n",
              "      <td>per population (%)</td>\n",
              "      <td>1</td>\n",
              "      <td>2004</td>\n",
              "      <td>0.0005</td>\n",
              "    </tr>\n",
              "    <tr>\n",
              "      <th>...</th>\n",
              "      <td>...</td>\n",
              "      <td>...</td>\n",
              "      <td>...</td>\n",
              "      <td>...</td>\n",
              "      <td>...</td>\n",
              "    </tr>\n",
              "    <tr>\n",
              "      <th>68</th>\n",
              "      <td>69</td>\n",
              "      <td>per population (%)</td>\n",
              "      <td>1</td>\n",
              "      <td>2020</td>\n",
              "      <td>0.1510</td>\n",
              "    </tr>\n",
              "    <tr>\n",
              "      <th>69</th>\n",
              "      <td>70</td>\n",
              "      <td>per population (%)</td>\n",
              "      <td>2</td>\n",
              "      <td>2020</td>\n",
              "      <td>0.1605</td>\n",
              "    </tr>\n",
              "    <tr>\n",
              "      <th>70</th>\n",
              "      <td>71</td>\n",
              "      <td>per population (%)</td>\n",
              "      <td>3</td>\n",
              "      <td>2020</td>\n",
              "      <td>0.1659</td>\n",
              "    </tr>\n",
              "    <tr>\n",
              "      <th>71</th>\n",
              "      <td>72</td>\n",
              "      <td>per population (%)</td>\n",
              "      <td>4</td>\n",
              "      <td>2020</td>\n",
              "      <td>0.1685</td>\n",
              "    </tr>\n",
              "    <tr>\n",
              "      <th>72</th>\n",
              "      <td>73</td>\n",
              "      <td>per population (%)</td>\n",
              "      <td>1</td>\n",
              "      <td>2021</td>\n",
              "      <td>0.1740</td>\n",
              "    </tr>\n",
              "  </tbody>\n",
              "</table>\n",
              "<p>73 rows × 5 columns</p>\n",
              "</div>"
            ],
            "text/plain": [
              "    no.     type_population  quarter  year  value_population\n",
              "0     1  per population (%)        1  2003            0.0001\n",
              "1     2  per population (%)        2  2003            0.0001\n",
              "2     3  per population (%)        3  2003            0.0001\n",
              "3     4  per population (%)        4  2003            0.0002\n",
              "4     5  per population (%)        1  2004            0.0005\n",
              "..  ...                 ...      ...   ...               ...\n",
              "68   69  per population (%)        1  2020            0.1510\n",
              "69   70  per population (%)        2  2020            0.1605\n",
              "70   71  per population (%)        3  2020            0.1659\n",
              "71   72  per population (%)        4  2020            0.1685\n",
              "72   73  per population (%)        1  2021            0.1740\n",
              "\n",
              "[73 rows x 5 columns]"
            ]
          },
          "metadata": {},
          "execution_count": 6
        }
      ]
    },
    {
      "cell_type": "markdown",
      "metadata": {
        "id": "XuSUYNSOowjB"
      },
      "source": [
        "##**เช็ค Missing แต่ละตาราง**\n",
        "* True แสดงว่า column นั้น ยังมีข้อมูลที่ missing อยู่\n",
        "* False แสดงว่า column นั้น ไม่มีข้อมูลที่ missing แล้ว"
      ]
    },
    {
      "cell_type": "code",
      "metadata": {
        "id": "mzlBcotVViGP",
        "colab": {
          "base_uri": "https://localhost:8080/"
        },
        "outputId": "af245acd-d8f2-40a3-e4cc-d5ea35520811"
      },
      "source": [
        "data_subscriber.isnull().any()"
      ],
      "execution_count": 7,
      "outputs": [
        {
          "output_type": "execute_result",
          "data": {
            "text/plain": [
              "no.                                   False\n",
              "quarter                               False\n",
              "Thailand Internet Users_subscriber    False\n",
              "year                                  False\n",
              "value_subscriber                      False\n",
              "dtype: bool"
            ]
          },
          "metadata": {},
          "execution_count": 7
        }
      ]
    },
    {
      "cell_type": "code",
      "metadata": {
        "id": "4uFyO9SBVmqF",
        "colab": {
          "base_uri": "https://localhost:8080/"
        },
        "outputId": "05b75926-bec6-4735-bef3-da18e6ff9ade"
      },
      "source": [
        "data_household.isnull().any()"
      ],
      "execution_count": 8,
      "outputs": [
        {
          "output_type": "execute_result",
          "data": {
            "text/plain": [
              "no.                False\n",
              "type_household     False\n",
              "quarter            False\n",
              "year               False\n",
              "value_household    False\n",
              "dtype: bool"
            ]
          },
          "metadata": {},
          "execution_count": 8
        }
      ]
    },
    {
      "cell_type": "code",
      "metadata": {
        "id": "zwGMiJkdVqPX",
        "colab": {
          "base_uri": "https://localhost:8080/"
        },
        "outputId": "c957ba55-a817-4a71-85ea-e1aa6e84fef3"
      },
      "source": [
        "data_population.isnull().any()"
      ],
      "execution_count": 9,
      "outputs": [
        {
          "output_type": "execute_result",
          "data": {
            "text/plain": [
              "no.                 False\n",
              "type_population     False\n",
              "quarter             False\n",
              "year                False\n",
              "value_population    False\n",
              "dtype: bool"
            ]
          },
          "metadata": {},
          "execution_count": 9
        }
      ]
    },
    {
      "cell_type": "markdown",
      "metadata": {
        "id": "ZMEdwvhQVuQz"
      },
      "source": [
        "**สรุปได้ว่าข้อมูลทั้ง 3 ตารางไม่มีข้อมูลที่ missing**"
      ]
    },
    {
      "cell_type": "markdown",
      "metadata": {
        "id": "D5Nm1P-mVxSf"
      },
      "source": [
        "##**เรียงข้อมูล**"
      ]
    },
    {
      "cell_type": "code",
      "metadata": {
        "id": "cLNxUHZyVxEB",
        "colab": {
          "base_uri": "https://localhost:8080/",
          "height": 417
        },
        "outputId": "a68cd2d1-9eb9-48c8-8abb-b4f504661b73"
      },
      "source": [
        "data_subscriber2 = data_subscriber.sort_values(by=['no.'])  #ใช้ column ของ No. เป็นหลักในการเรียง\n",
        "data_subscriber2"
      ],
      "execution_count": 10,
      "outputs": [
        {
          "output_type": "execute_result",
          "data": {
            "text/html": [
              "<div>\n",
              "<style scoped>\n",
              "    .dataframe tbody tr th:only-of-type {\n",
              "        vertical-align: middle;\n",
              "    }\n",
              "\n",
              "    .dataframe tbody tr th {\n",
              "        vertical-align: top;\n",
              "    }\n",
              "\n",
              "    .dataframe thead th {\n",
              "        text-align: right;\n",
              "    }\n",
              "</style>\n",
              "<table border=\"1\" class=\"dataframe\">\n",
              "  <thead>\n",
              "    <tr style=\"text-align: right;\">\n",
              "      <th></th>\n",
              "      <th>no.</th>\n",
              "      <th>quarter</th>\n",
              "      <th>Thailand Internet Users_subscriber</th>\n",
              "      <th>year</th>\n",
              "      <th>value_subscriber</th>\n",
              "    </tr>\n",
              "  </thead>\n",
              "  <tbody>\n",
              "    <tr>\n",
              "      <th>3</th>\n",
              "      <td>1</td>\n",
              "      <td>1</td>\n",
              "      <td>Total Internet subscribers</td>\n",
              "      <td>2003</td>\n",
              "      <td>365219.00</td>\n",
              "    </tr>\n",
              "    <tr>\n",
              "      <th>2</th>\n",
              "      <td>2</td>\n",
              "      <td>2</td>\n",
              "      <td>Total Internet subscribers</td>\n",
              "      <td>2003</td>\n",
              "      <td>453043.00</td>\n",
              "    </tr>\n",
              "    <tr>\n",
              "      <th>1</th>\n",
              "      <td>3</td>\n",
              "      <td>3</td>\n",
              "      <td>Total Internet subscribers</td>\n",
              "      <td>2003</td>\n",
              "      <td>529530.00</td>\n",
              "    </tr>\n",
              "    <tr>\n",
              "      <th>0</th>\n",
              "      <td>4</td>\n",
              "      <td>4</td>\n",
              "      <td>Total Internet subscribers</td>\n",
              "      <td>2003</td>\n",
              "      <td>652726.00</td>\n",
              "    </tr>\n",
              "    <tr>\n",
              "      <th>7</th>\n",
              "      <td>5</td>\n",
              "      <td>1</td>\n",
              "      <td>Total Internet subscribers</td>\n",
              "      <td>2004</td>\n",
              "      <td>785931.00</td>\n",
              "    </tr>\n",
              "    <tr>\n",
              "      <th>...</th>\n",
              "      <td>...</td>\n",
              "      <td>...</td>\n",
              "      <td>...</td>\n",
              "      <td>...</td>\n",
              "      <td>...</td>\n",
              "    </tr>\n",
              "    <tr>\n",
              "      <th>71</th>\n",
              "      <td>69</td>\n",
              "      <td>1</td>\n",
              "      <td>Total Internet subscribers</td>\n",
              "      <td>2020</td>\n",
              "      <td>10264995.67</td>\n",
              "    </tr>\n",
              "    <tr>\n",
              "      <th>70</th>\n",
              "      <td>70</td>\n",
              "      <td>2</td>\n",
              "      <td>Total Internet subscribers</td>\n",
              "      <td>2020</td>\n",
              "      <td>10912996.14</td>\n",
              "    </tr>\n",
              "    <tr>\n",
              "      <th>69</th>\n",
              "      <td>71</td>\n",
              "      <td>3</td>\n",
              "      <td>Total Internet subscribers</td>\n",
              "      <td>2020</td>\n",
              "      <td>11282645.58</td>\n",
              "    </tr>\n",
              "    <tr>\n",
              "      <th>68</th>\n",
              "      <td>72</td>\n",
              "      <td>4</td>\n",
              "      <td>Total Internet subscribers</td>\n",
              "      <td>2020</td>\n",
              "      <td>11478264.92</td>\n",
              "    </tr>\n",
              "    <tr>\n",
              "      <th>72</th>\n",
              "      <td>73</td>\n",
              "      <td>1</td>\n",
              "      <td>Total Internet subscribers</td>\n",
              "      <td>2021</td>\n",
              "      <td>11876158.44</td>\n",
              "    </tr>\n",
              "  </tbody>\n",
              "</table>\n",
              "<p>73 rows × 5 columns</p>\n",
              "</div>"
            ],
            "text/plain": [
              "    no.  quarter Thailand Internet Users_subscriber  year  value_subscriber\n",
              "3     1        1         Total Internet subscribers  2003         365219.00\n",
              "2     2        2         Total Internet subscribers  2003         453043.00\n",
              "1     3        3         Total Internet subscribers  2003         529530.00\n",
              "0     4        4         Total Internet subscribers  2003         652726.00\n",
              "7     5        1         Total Internet subscribers  2004         785931.00\n",
              "..  ...      ...                                ...   ...               ...\n",
              "71   69        1         Total Internet subscribers  2020       10264995.67\n",
              "70   70        2         Total Internet subscribers  2020       10912996.14\n",
              "69   71        3         Total Internet subscribers  2020       11282645.58\n",
              "68   72        4         Total Internet subscribers  2020       11478264.92\n",
              "72   73        1         Total Internet subscribers  2021       11876158.44\n",
              "\n",
              "[73 rows x 5 columns]"
            ]
          },
          "metadata": {},
          "execution_count": 10
        }
      ]
    },
    {
      "cell_type": "code",
      "metadata": {
        "id": "2jep0SmVV2QK",
        "colab": {
          "base_uri": "https://localhost:8080/",
          "height": 417
        },
        "outputId": "49ac221c-0a87-4cb0-ad62-c2187f1d12eb"
      },
      "source": [
        "data_household2 = data_household.sort_values(by=['no.'])  #ใช้ column ของ No. เป็นหลักในการเรียง\n",
        "data_household2"
      ],
      "execution_count": 11,
      "outputs": [
        {
          "output_type": "execute_result",
          "data": {
            "text/html": [
              "<div>\n",
              "<style scoped>\n",
              "    .dataframe tbody tr th:only-of-type {\n",
              "        vertical-align: middle;\n",
              "    }\n",
              "\n",
              "    .dataframe tbody tr th {\n",
              "        vertical-align: top;\n",
              "    }\n",
              "\n",
              "    .dataframe thead th {\n",
              "        text-align: right;\n",
              "    }\n",
              "</style>\n",
              "<table border=\"1\" class=\"dataframe\">\n",
              "  <thead>\n",
              "    <tr style=\"text-align: right;\">\n",
              "      <th></th>\n",
              "      <th>no.</th>\n",
              "      <th>type_household</th>\n",
              "      <th>quarter</th>\n",
              "      <th>year</th>\n",
              "      <th>value_household</th>\n",
              "    </tr>\n",
              "  </thead>\n",
              "  <tbody>\n",
              "    <tr>\n",
              "      <th>3</th>\n",
              "      <td>1</td>\n",
              "      <td>per household (%)</td>\n",
              "      <td>1</td>\n",
              "      <td>2003</td>\n",
              "      <td>0.000281</td>\n",
              "    </tr>\n",
              "    <tr>\n",
              "      <th>2</th>\n",
              "      <td>2</td>\n",
              "      <td>per household (%)</td>\n",
              "      <td>2</td>\n",
              "      <td>2003</td>\n",
              "      <td>0.000343</td>\n",
              "    </tr>\n",
              "    <tr>\n",
              "      <th>1</th>\n",
              "      <td>3</td>\n",
              "      <td>per household (%)</td>\n",
              "      <td>3</td>\n",
              "      <td>2003</td>\n",
              "      <td>0.000459</td>\n",
              "    </tr>\n",
              "    <tr>\n",
              "      <th>0</th>\n",
              "      <td>4</td>\n",
              "      <td>per household (%)</td>\n",
              "      <td>4</td>\n",
              "      <td>2003</td>\n",
              "      <td>0.000649</td>\n",
              "    </tr>\n",
              "    <tr>\n",
              "      <th>7</th>\n",
              "      <td>5</td>\n",
              "      <td>per household (%)</td>\n",
              "      <td>1</td>\n",
              "      <td>2004</td>\n",
              "      <td>0.001556</td>\n",
              "    </tr>\n",
              "    <tr>\n",
              "      <th>...</th>\n",
              "      <td>...</td>\n",
              "      <td>...</td>\n",
              "      <td>...</td>\n",
              "      <td>...</td>\n",
              "      <td>...</td>\n",
              "    </tr>\n",
              "    <tr>\n",
              "      <th>71</th>\n",
              "      <td>69</td>\n",
              "      <td>per household (%)</td>\n",
              "      <td>1</td>\n",
              "      <td>2020</td>\n",
              "      <td>0.469344</td>\n",
              "    </tr>\n",
              "    <tr>\n",
              "      <th>70</th>\n",
              "      <td>70</td>\n",
              "      <td>per household (%)</td>\n",
              "      <td>2</td>\n",
              "      <td>2020</td>\n",
              "      <td>0.498972</td>\n",
              "    </tr>\n",
              "    <tr>\n",
              "      <th>69</th>\n",
              "      <td>71</td>\n",
              "      <td>per household (%)</td>\n",
              "      <td>3</td>\n",
              "      <td>2020</td>\n",
              "      <td>0.515873</td>\n",
              "    </tr>\n",
              "    <tr>\n",
              "      <th>68</th>\n",
              "      <td>72</td>\n",
              "      <td>per household (%)</td>\n",
              "      <td>4</td>\n",
              "      <td>2020</td>\n",
              "      <td>0.514683</td>\n",
              "    </tr>\n",
              "    <tr>\n",
              "      <th>72</th>\n",
              "      <td>73</td>\n",
              "      <td>per household (%)</td>\n",
              "      <td>1</td>\n",
              "      <td>2021</td>\n",
              "      <td>0.532524</td>\n",
              "    </tr>\n",
              "  </tbody>\n",
              "</table>\n",
              "<p>73 rows × 5 columns</p>\n",
              "</div>"
            ],
            "text/plain": [
              "    no.     type_household  quarter  year  value_household\n",
              "3     1  per household (%)        1  2003         0.000281\n",
              "2     2  per household (%)        2  2003         0.000343\n",
              "1     3  per household (%)        3  2003         0.000459\n",
              "0     4  per household (%)        4  2003         0.000649\n",
              "7     5  per household (%)        1  2004         0.001556\n",
              "..  ...                ...      ...   ...              ...\n",
              "71   69  per household (%)        1  2020         0.469344\n",
              "70   70  per household (%)        2  2020         0.498972\n",
              "69   71  per household (%)        3  2020         0.515873\n",
              "68   72  per household (%)        4  2020         0.514683\n",
              "72   73  per household (%)        1  2021         0.532524\n",
              "\n",
              "[73 rows x 5 columns]"
            ]
          },
          "metadata": {},
          "execution_count": 11
        }
      ]
    },
    {
      "cell_type": "code",
      "metadata": {
        "id": "fFyJ4846V4kQ",
        "colab": {
          "base_uri": "https://localhost:8080/",
          "height": 417
        },
        "outputId": "bbca1f69-16a3-4662-83dc-7744dce9fb6d"
      },
      "source": [
        "#ตัด column ที่ซ้ำกันออกคือ QUARTER กับ YEAR\n",
        "data_population.drop(['quarter','year'], axis=1, inplace=True)  #axis=1 คือลบ column axis=0 คือลบ row\n",
        "data_population"
      ],
      "execution_count": 12,
      "outputs": [
        {
          "output_type": "execute_result",
          "data": {
            "text/html": [
              "<div>\n",
              "<style scoped>\n",
              "    .dataframe tbody tr th:only-of-type {\n",
              "        vertical-align: middle;\n",
              "    }\n",
              "\n",
              "    .dataframe tbody tr th {\n",
              "        vertical-align: top;\n",
              "    }\n",
              "\n",
              "    .dataframe thead th {\n",
              "        text-align: right;\n",
              "    }\n",
              "</style>\n",
              "<table border=\"1\" class=\"dataframe\">\n",
              "  <thead>\n",
              "    <tr style=\"text-align: right;\">\n",
              "      <th></th>\n",
              "      <th>no.</th>\n",
              "      <th>type_population</th>\n",
              "      <th>value_population</th>\n",
              "    </tr>\n",
              "  </thead>\n",
              "  <tbody>\n",
              "    <tr>\n",
              "      <th>0</th>\n",
              "      <td>1</td>\n",
              "      <td>per population (%)</td>\n",
              "      <td>0.0001</td>\n",
              "    </tr>\n",
              "    <tr>\n",
              "      <th>1</th>\n",
              "      <td>2</td>\n",
              "      <td>per population (%)</td>\n",
              "      <td>0.0001</td>\n",
              "    </tr>\n",
              "    <tr>\n",
              "      <th>2</th>\n",
              "      <td>3</td>\n",
              "      <td>per population (%)</td>\n",
              "      <td>0.0001</td>\n",
              "    </tr>\n",
              "    <tr>\n",
              "      <th>3</th>\n",
              "      <td>4</td>\n",
              "      <td>per population (%)</td>\n",
              "      <td>0.0002</td>\n",
              "    </tr>\n",
              "    <tr>\n",
              "      <th>4</th>\n",
              "      <td>5</td>\n",
              "      <td>per population (%)</td>\n",
              "      <td>0.0005</td>\n",
              "    </tr>\n",
              "    <tr>\n",
              "      <th>...</th>\n",
              "      <td>...</td>\n",
              "      <td>...</td>\n",
              "      <td>...</td>\n",
              "    </tr>\n",
              "    <tr>\n",
              "      <th>68</th>\n",
              "      <td>69</td>\n",
              "      <td>per population (%)</td>\n",
              "      <td>0.1510</td>\n",
              "    </tr>\n",
              "    <tr>\n",
              "      <th>69</th>\n",
              "      <td>70</td>\n",
              "      <td>per population (%)</td>\n",
              "      <td>0.1605</td>\n",
              "    </tr>\n",
              "    <tr>\n",
              "      <th>70</th>\n",
              "      <td>71</td>\n",
              "      <td>per population (%)</td>\n",
              "      <td>0.1659</td>\n",
              "    </tr>\n",
              "    <tr>\n",
              "      <th>71</th>\n",
              "      <td>72</td>\n",
              "      <td>per population (%)</td>\n",
              "      <td>0.1685</td>\n",
              "    </tr>\n",
              "    <tr>\n",
              "      <th>72</th>\n",
              "      <td>73</td>\n",
              "      <td>per population (%)</td>\n",
              "      <td>0.1740</td>\n",
              "    </tr>\n",
              "  </tbody>\n",
              "</table>\n",
              "<p>73 rows × 3 columns</p>\n",
              "</div>"
            ],
            "text/plain": [
              "    no.     type_population  value_population\n",
              "0     1  per population (%)            0.0001\n",
              "1     2  per population (%)            0.0001\n",
              "2     3  per population (%)            0.0001\n",
              "3     4  per population (%)            0.0002\n",
              "4     5  per population (%)            0.0005\n",
              "..  ...                 ...               ...\n",
              "68   69  per population (%)            0.1510\n",
              "69   70  per population (%)            0.1605\n",
              "70   71  per population (%)            0.1659\n",
              "71   72  per population (%)            0.1685\n",
              "72   73  per population (%)            0.1740\n",
              "\n",
              "[73 rows x 3 columns]"
            ]
          },
          "metadata": {},
          "execution_count": 12
        }
      ]
    },
    {
      "cell_type": "code",
      "metadata": {
        "id": "uQj9cb09V_7B",
        "colab": {
          "base_uri": "https://localhost:8080/",
          "height": 638
        },
        "outputId": "f84b48a7-4a21-4e7b-b614-f3d588a3ed59"
      },
      "source": [
        "#เชื่อมตาราง data_subscriber2 และ data_population เข้าด้วยกัน โดยให้ตาราง data_subscriber2 เป็นตารางหลัก\n",
        "merge_table1 = data_subscriber2.merge(data_population,how='left',left_on='no.',right_on='no.')\n",
        "merge_table1"
      ],
      "execution_count": 13,
      "outputs": [
        {
          "output_type": "execute_result",
          "data": {
            "text/html": [
              "<div>\n",
              "<style scoped>\n",
              "    .dataframe tbody tr th:only-of-type {\n",
              "        vertical-align: middle;\n",
              "    }\n",
              "\n",
              "    .dataframe tbody tr th {\n",
              "        vertical-align: top;\n",
              "    }\n",
              "\n",
              "    .dataframe thead th {\n",
              "        text-align: right;\n",
              "    }\n",
              "</style>\n",
              "<table border=\"1\" class=\"dataframe\">\n",
              "  <thead>\n",
              "    <tr style=\"text-align: right;\">\n",
              "      <th></th>\n",
              "      <th>no.</th>\n",
              "      <th>quarter</th>\n",
              "      <th>Thailand Internet Users_subscriber</th>\n",
              "      <th>year</th>\n",
              "      <th>value_subscriber</th>\n",
              "      <th>type_population</th>\n",
              "      <th>value_population</th>\n",
              "    </tr>\n",
              "  </thead>\n",
              "  <tbody>\n",
              "    <tr>\n",
              "      <th>0</th>\n",
              "      <td>1</td>\n",
              "      <td>1</td>\n",
              "      <td>Total Internet subscribers</td>\n",
              "      <td>2003</td>\n",
              "      <td>365219.00</td>\n",
              "      <td>per population (%)</td>\n",
              "      <td>0.0001</td>\n",
              "    </tr>\n",
              "    <tr>\n",
              "      <th>1</th>\n",
              "      <td>2</td>\n",
              "      <td>2</td>\n",
              "      <td>Total Internet subscribers</td>\n",
              "      <td>2003</td>\n",
              "      <td>453043.00</td>\n",
              "      <td>per population (%)</td>\n",
              "      <td>0.0001</td>\n",
              "    </tr>\n",
              "    <tr>\n",
              "      <th>2</th>\n",
              "      <td>3</td>\n",
              "      <td>3</td>\n",
              "      <td>Total Internet subscribers</td>\n",
              "      <td>2003</td>\n",
              "      <td>529530.00</td>\n",
              "      <td>per population (%)</td>\n",
              "      <td>0.0001</td>\n",
              "    </tr>\n",
              "    <tr>\n",
              "      <th>3</th>\n",
              "      <td>4</td>\n",
              "      <td>4</td>\n",
              "      <td>Total Internet subscribers</td>\n",
              "      <td>2003</td>\n",
              "      <td>652726.00</td>\n",
              "      <td>per population (%)</td>\n",
              "      <td>0.0002</td>\n",
              "    </tr>\n",
              "    <tr>\n",
              "      <th>4</th>\n",
              "      <td>5</td>\n",
              "      <td>1</td>\n",
              "      <td>Total Internet subscribers</td>\n",
              "      <td>2004</td>\n",
              "      <td>785931.00</td>\n",
              "      <td>per population (%)</td>\n",
              "      <td>0.0005</td>\n",
              "    </tr>\n",
              "    <tr>\n",
              "      <th>...</th>\n",
              "      <td>...</td>\n",
              "      <td>...</td>\n",
              "      <td>...</td>\n",
              "      <td>...</td>\n",
              "      <td>...</td>\n",
              "      <td>...</td>\n",
              "      <td>...</td>\n",
              "    </tr>\n",
              "    <tr>\n",
              "      <th>68</th>\n",
              "      <td>69</td>\n",
              "      <td>1</td>\n",
              "      <td>Total Internet subscribers</td>\n",
              "      <td>2020</td>\n",
              "      <td>10264995.67</td>\n",
              "      <td>per population (%)</td>\n",
              "      <td>0.1510</td>\n",
              "    </tr>\n",
              "    <tr>\n",
              "      <th>69</th>\n",
              "      <td>70</td>\n",
              "      <td>2</td>\n",
              "      <td>Total Internet subscribers</td>\n",
              "      <td>2020</td>\n",
              "      <td>10912996.14</td>\n",
              "      <td>per population (%)</td>\n",
              "      <td>0.1605</td>\n",
              "    </tr>\n",
              "    <tr>\n",
              "      <th>70</th>\n",
              "      <td>71</td>\n",
              "      <td>3</td>\n",
              "      <td>Total Internet subscribers</td>\n",
              "      <td>2020</td>\n",
              "      <td>11282645.58</td>\n",
              "      <td>per population (%)</td>\n",
              "      <td>0.1659</td>\n",
              "    </tr>\n",
              "    <tr>\n",
              "      <th>71</th>\n",
              "      <td>72</td>\n",
              "      <td>4</td>\n",
              "      <td>Total Internet subscribers</td>\n",
              "      <td>2020</td>\n",
              "      <td>11478264.92</td>\n",
              "      <td>per population (%)</td>\n",
              "      <td>0.1685</td>\n",
              "    </tr>\n",
              "    <tr>\n",
              "      <th>72</th>\n",
              "      <td>73</td>\n",
              "      <td>1</td>\n",
              "      <td>Total Internet subscribers</td>\n",
              "      <td>2021</td>\n",
              "      <td>11876158.44</td>\n",
              "      <td>per population (%)</td>\n",
              "      <td>0.1740</td>\n",
              "    </tr>\n",
              "  </tbody>\n",
              "</table>\n",
              "<p>73 rows × 7 columns</p>\n",
              "</div>"
            ],
            "text/plain": [
              "    no.  quarter  ...     type_population  value_population\n",
              "0     1        1  ...  per population (%)            0.0001\n",
              "1     2        2  ...  per population (%)            0.0001\n",
              "2     3        3  ...  per population (%)            0.0001\n",
              "3     4        4  ...  per population (%)            0.0002\n",
              "4     5        1  ...  per population (%)            0.0005\n",
              "..  ...      ...  ...                 ...               ...\n",
              "68   69        1  ...  per population (%)            0.1510\n",
              "69   70        2  ...  per population (%)            0.1605\n",
              "70   71        3  ...  per population (%)            0.1659\n",
              "71   72        4  ...  per population (%)            0.1685\n",
              "72   73        1  ...  per population (%)            0.1740\n",
              "\n",
              "[73 rows x 7 columns]"
            ]
          },
          "metadata": {},
          "execution_count": 13
        }
      ]
    },
    {
      "cell_type": "code",
      "metadata": {
        "id": "lXqTQbW6WDeQ",
        "colab": {
          "base_uri": "https://localhost:8080/",
          "height": 417
        },
        "outputId": "c83dc008-b018-452c-d4f2-0f936096272f"
      },
      "source": [
        "#ตัด column ที่ซ้ำกันออกคือ QUARTER กับ YEAR\n",
        "data_household2.drop(['quarter','year'], axis=1, inplace=True)  #axis=1 คือลบ column axis=0 คือลบ row\n",
        "data_household2"
      ],
      "execution_count": 14,
      "outputs": [
        {
          "output_type": "execute_result",
          "data": {
            "text/html": [
              "<div>\n",
              "<style scoped>\n",
              "    .dataframe tbody tr th:only-of-type {\n",
              "        vertical-align: middle;\n",
              "    }\n",
              "\n",
              "    .dataframe tbody tr th {\n",
              "        vertical-align: top;\n",
              "    }\n",
              "\n",
              "    .dataframe thead th {\n",
              "        text-align: right;\n",
              "    }\n",
              "</style>\n",
              "<table border=\"1\" class=\"dataframe\">\n",
              "  <thead>\n",
              "    <tr style=\"text-align: right;\">\n",
              "      <th></th>\n",
              "      <th>no.</th>\n",
              "      <th>type_household</th>\n",
              "      <th>value_household</th>\n",
              "    </tr>\n",
              "  </thead>\n",
              "  <tbody>\n",
              "    <tr>\n",
              "      <th>3</th>\n",
              "      <td>1</td>\n",
              "      <td>per household (%)</td>\n",
              "      <td>0.000281</td>\n",
              "    </tr>\n",
              "    <tr>\n",
              "      <th>2</th>\n",
              "      <td>2</td>\n",
              "      <td>per household (%)</td>\n",
              "      <td>0.000343</td>\n",
              "    </tr>\n",
              "    <tr>\n",
              "      <th>1</th>\n",
              "      <td>3</td>\n",
              "      <td>per household (%)</td>\n",
              "      <td>0.000459</td>\n",
              "    </tr>\n",
              "    <tr>\n",
              "      <th>0</th>\n",
              "      <td>4</td>\n",
              "      <td>per household (%)</td>\n",
              "      <td>0.000649</td>\n",
              "    </tr>\n",
              "    <tr>\n",
              "      <th>7</th>\n",
              "      <td>5</td>\n",
              "      <td>per household (%)</td>\n",
              "      <td>0.001556</td>\n",
              "    </tr>\n",
              "    <tr>\n",
              "      <th>...</th>\n",
              "      <td>...</td>\n",
              "      <td>...</td>\n",
              "      <td>...</td>\n",
              "    </tr>\n",
              "    <tr>\n",
              "      <th>71</th>\n",
              "      <td>69</td>\n",
              "      <td>per household (%)</td>\n",
              "      <td>0.469344</td>\n",
              "    </tr>\n",
              "    <tr>\n",
              "      <th>70</th>\n",
              "      <td>70</td>\n",
              "      <td>per household (%)</td>\n",
              "      <td>0.498972</td>\n",
              "    </tr>\n",
              "    <tr>\n",
              "      <th>69</th>\n",
              "      <td>71</td>\n",
              "      <td>per household (%)</td>\n",
              "      <td>0.515873</td>\n",
              "    </tr>\n",
              "    <tr>\n",
              "      <th>68</th>\n",
              "      <td>72</td>\n",
              "      <td>per household (%)</td>\n",
              "      <td>0.514683</td>\n",
              "    </tr>\n",
              "    <tr>\n",
              "      <th>72</th>\n",
              "      <td>73</td>\n",
              "      <td>per household (%)</td>\n",
              "      <td>0.532524</td>\n",
              "    </tr>\n",
              "  </tbody>\n",
              "</table>\n",
              "<p>73 rows × 3 columns</p>\n",
              "</div>"
            ],
            "text/plain": [
              "    no.     type_household  value_household\n",
              "3     1  per household (%)         0.000281\n",
              "2     2  per household (%)         0.000343\n",
              "1     3  per household (%)         0.000459\n",
              "0     4  per household (%)         0.000649\n",
              "7     5  per household (%)         0.001556\n",
              "..  ...                ...              ...\n",
              "71   69  per household (%)         0.469344\n",
              "70   70  per household (%)         0.498972\n",
              "69   71  per household (%)         0.515873\n",
              "68   72  per household (%)         0.514683\n",
              "72   73  per household (%)         0.532524\n",
              "\n",
              "[73 rows x 3 columns]"
            ]
          },
          "metadata": {},
          "execution_count": 14
        }
      ]
    },
    {
      "cell_type": "code",
      "metadata": {
        "id": "4Ct1I6ddWHdu",
        "colab": {
          "base_uri": "https://localhost:8080/",
          "height": 638
        },
        "outputId": "fc726d40-feb3-447c-c14c-c7d30573aa3f"
      },
      "source": [
        "#เชื่อมตาราง merge_table1 และ data_household2 เข้าด้วยกัน โดยให้ตาราง merge_table1 เป็นตารางหลัก\n",
        "merge_table2 = merge_table1.merge(data_household2,how='left',left_on='no.',right_on='no.')\n",
        "merge_table2"
      ],
      "execution_count": 15,
      "outputs": [
        {
          "output_type": "execute_result",
          "data": {
            "text/html": [
              "<div>\n",
              "<style scoped>\n",
              "    .dataframe tbody tr th:only-of-type {\n",
              "        vertical-align: middle;\n",
              "    }\n",
              "\n",
              "    .dataframe tbody tr th {\n",
              "        vertical-align: top;\n",
              "    }\n",
              "\n",
              "    .dataframe thead th {\n",
              "        text-align: right;\n",
              "    }\n",
              "</style>\n",
              "<table border=\"1\" class=\"dataframe\">\n",
              "  <thead>\n",
              "    <tr style=\"text-align: right;\">\n",
              "      <th></th>\n",
              "      <th>no.</th>\n",
              "      <th>quarter</th>\n",
              "      <th>Thailand Internet Users_subscriber</th>\n",
              "      <th>year</th>\n",
              "      <th>value_subscriber</th>\n",
              "      <th>type_population</th>\n",
              "      <th>value_population</th>\n",
              "      <th>type_household</th>\n",
              "      <th>value_household</th>\n",
              "    </tr>\n",
              "  </thead>\n",
              "  <tbody>\n",
              "    <tr>\n",
              "      <th>0</th>\n",
              "      <td>1</td>\n",
              "      <td>1</td>\n",
              "      <td>Total Internet subscribers</td>\n",
              "      <td>2003</td>\n",
              "      <td>365219.00</td>\n",
              "      <td>per population (%)</td>\n",
              "      <td>0.0001</td>\n",
              "      <td>per household (%)</td>\n",
              "      <td>0.000281</td>\n",
              "    </tr>\n",
              "    <tr>\n",
              "      <th>1</th>\n",
              "      <td>2</td>\n",
              "      <td>2</td>\n",
              "      <td>Total Internet subscribers</td>\n",
              "      <td>2003</td>\n",
              "      <td>453043.00</td>\n",
              "      <td>per population (%)</td>\n",
              "      <td>0.0001</td>\n",
              "      <td>per household (%)</td>\n",
              "      <td>0.000343</td>\n",
              "    </tr>\n",
              "    <tr>\n",
              "      <th>2</th>\n",
              "      <td>3</td>\n",
              "      <td>3</td>\n",
              "      <td>Total Internet subscribers</td>\n",
              "      <td>2003</td>\n",
              "      <td>529530.00</td>\n",
              "      <td>per population (%)</td>\n",
              "      <td>0.0001</td>\n",
              "      <td>per household (%)</td>\n",
              "      <td>0.000459</td>\n",
              "    </tr>\n",
              "    <tr>\n",
              "      <th>3</th>\n",
              "      <td>4</td>\n",
              "      <td>4</td>\n",
              "      <td>Total Internet subscribers</td>\n",
              "      <td>2003</td>\n",
              "      <td>652726.00</td>\n",
              "      <td>per population (%)</td>\n",
              "      <td>0.0002</td>\n",
              "      <td>per household (%)</td>\n",
              "      <td>0.000649</td>\n",
              "    </tr>\n",
              "    <tr>\n",
              "      <th>4</th>\n",
              "      <td>5</td>\n",
              "      <td>1</td>\n",
              "      <td>Total Internet subscribers</td>\n",
              "      <td>2004</td>\n",
              "      <td>785931.00</td>\n",
              "      <td>per population (%)</td>\n",
              "      <td>0.0005</td>\n",
              "      <td>per household (%)</td>\n",
              "      <td>0.001556</td>\n",
              "    </tr>\n",
              "    <tr>\n",
              "      <th>...</th>\n",
              "      <td>...</td>\n",
              "      <td>...</td>\n",
              "      <td>...</td>\n",
              "      <td>...</td>\n",
              "      <td>...</td>\n",
              "      <td>...</td>\n",
              "      <td>...</td>\n",
              "      <td>...</td>\n",
              "      <td>...</td>\n",
              "    </tr>\n",
              "    <tr>\n",
              "      <th>68</th>\n",
              "      <td>69</td>\n",
              "      <td>1</td>\n",
              "      <td>Total Internet subscribers</td>\n",
              "      <td>2020</td>\n",
              "      <td>10264995.67</td>\n",
              "      <td>per population (%)</td>\n",
              "      <td>0.1510</td>\n",
              "      <td>per household (%)</td>\n",
              "      <td>0.469344</td>\n",
              "    </tr>\n",
              "    <tr>\n",
              "      <th>69</th>\n",
              "      <td>70</td>\n",
              "      <td>2</td>\n",
              "      <td>Total Internet subscribers</td>\n",
              "      <td>2020</td>\n",
              "      <td>10912996.14</td>\n",
              "      <td>per population (%)</td>\n",
              "      <td>0.1605</td>\n",
              "      <td>per household (%)</td>\n",
              "      <td>0.498972</td>\n",
              "    </tr>\n",
              "    <tr>\n",
              "      <th>70</th>\n",
              "      <td>71</td>\n",
              "      <td>3</td>\n",
              "      <td>Total Internet subscribers</td>\n",
              "      <td>2020</td>\n",
              "      <td>11282645.58</td>\n",
              "      <td>per population (%)</td>\n",
              "      <td>0.1659</td>\n",
              "      <td>per household (%)</td>\n",
              "      <td>0.515873</td>\n",
              "    </tr>\n",
              "    <tr>\n",
              "      <th>71</th>\n",
              "      <td>72</td>\n",
              "      <td>4</td>\n",
              "      <td>Total Internet subscribers</td>\n",
              "      <td>2020</td>\n",
              "      <td>11478264.92</td>\n",
              "      <td>per population (%)</td>\n",
              "      <td>0.1685</td>\n",
              "      <td>per household (%)</td>\n",
              "      <td>0.514683</td>\n",
              "    </tr>\n",
              "    <tr>\n",
              "      <th>72</th>\n",
              "      <td>73</td>\n",
              "      <td>1</td>\n",
              "      <td>Total Internet subscribers</td>\n",
              "      <td>2021</td>\n",
              "      <td>11876158.44</td>\n",
              "      <td>per population (%)</td>\n",
              "      <td>0.1740</td>\n",
              "      <td>per household (%)</td>\n",
              "      <td>0.532524</td>\n",
              "    </tr>\n",
              "  </tbody>\n",
              "</table>\n",
              "<p>73 rows × 9 columns</p>\n",
              "</div>"
            ],
            "text/plain": [
              "    no.  quarter  ...     type_household  value_household\n",
              "0     1        1  ...  per household (%)         0.000281\n",
              "1     2        2  ...  per household (%)         0.000343\n",
              "2     3        3  ...  per household (%)         0.000459\n",
              "3     4        4  ...  per household (%)         0.000649\n",
              "4     5        1  ...  per household (%)         0.001556\n",
              "..  ...      ...  ...                ...              ...\n",
              "68   69        1  ...  per household (%)         0.469344\n",
              "69   70        2  ...  per household (%)         0.498972\n",
              "70   71        3  ...  per household (%)         0.515873\n",
              "71   72        4  ...  per household (%)         0.514683\n",
              "72   73        1  ...  per household (%)         0.532524\n",
              "\n",
              "[73 rows x 9 columns]"
            ]
          },
          "metadata": {},
          "execution_count": 15
        }
      ]
    },
    {
      "cell_type": "markdown",
      "metadata": {
        "id": "27x_F6VGWL8H"
      },
      "source": [
        "#**ข้อมูลชุดที่ 4 จำนวนเลขหมายโทรศัพท์เคลื่อนที่ที่ได้รับการจดทะเบียน**\n",
        "\n",
        "https://data.go.th/dataset/mobile-subscribers?fbclid=IwAR3ZoY2gqT_ogfZwHHI40nC_ejcmi3O9xZMOmcac_rCCdA5brXcHVh85Ayw\n",
        "\n",
        "องค์กร สำนักงานคณะกรรมการกิจการกระจายเสียง กิจการโทรทัศน์ และกิจการโทรคมนาคมแห่งชาติ"
      ]
    },
    {
      "cell_type": "markdown",
      "metadata": {
        "id": "mUM3xjJ8WQ-v"
      },
      "source": [
        "**คำอธิบายตาราง**\n",
        "\n",
        "* no. คือ ลำดับ\n",
        "* Mobile Market Report คือ ประเภท\n",
        "* quarter คือ ไตรมาส (4 ไตรมาส)\n",
        "* year คือ ปี\n",
        "* value_mobile คือ จำนวนเลขหมายโทรศัพท์เคลื่อนที่ที่ได้รับการจดทะเบียน"
      ]
    },
    {
      "cell_type": "code",
      "metadata": {
        "id": "6_-OmzjrWV0F",
        "colab": {
          "base_uri": "https://localhost:8080/",
          "height": 417
        },
        "outputId": "4a1fb127-fd83-48a9-a4fa-0fc93d46a5c9"
      },
      "source": [
        "data_mobile = pd.read_csv(os.path.join(path,'05mobile-subscribers.csv'))\n",
        "data_mobile"
      ],
      "execution_count": 16,
      "outputs": [
        {
          "output_type": "execute_result",
          "data": {
            "text/html": [
              "<div>\n",
              "<style scoped>\n",
              "    .dataframe tbody tr th:only-of-type {\n",
              "        vertical-align: middle;\n",
              "    }\n",
              "\n",
              "    .dataframe tbody tr th {\n",
              "        vertical-align: top;\n",
              "    }\n",
              "\n",
              "    .dataframe thead th {\n",
              "        text-align: right;\n",
              "    }\n",
              "</style>\n",
              "<table border=\"1\" class=\"dataframe\">\n",
              "  <thead>\n",
              "    <tr style=\"text-align: right;\">\n",
              "      <th></th>\n",
              "      <th>no.</th>\n",
              "      <th>Mobile Market Report</th>\n",
              "      <th>quarter</th>\n",
              "      <th>year</th>\n",
              "      <th>value_mobile</th>\n",
              "    </tr>\n",
              "  </thead>\n",
              "  <tbody>\n",
              "    <tr>\n",
              "      <th>0</th>\n",
              "      <td>4</td>\n",
              "      <td>Mobile Subscribers</td>\n",
              "      <td>4</td>\n",
              "      <td>2002</td>\n",
              "      <td>17449890</td>\n",
              "    </tr>\n",
              "    <tr>\n",
              "      <th>1</th>\n",
              "      <td>3</td>\n",
              "      <td>Mobile Subscribers</td>\n",
              "      <td>3</td>\n",
              "      <td>2002</td>\n",
              "      <td>15743776</td>\n",
              "    </tr>\n",
              "    <tr>\n",
              "      <th>2</th>\n",
              "      <td>2</td>\n",
              "      <td>Mobile Subscribers</td>\n",
              "      <td>2</td>\n",
              "      <td>2002</td>\n",
              "      <td>12416261</td>\n",
              "    </tr>\n",
              "    <tr>\n",
              "      <th>3</th>\n",
              "      <td>1</td>\n",
              "      <td>Mobile Subscribers</td>\n",
              "      <td>1</td>\n",
              "      <td>2002</td>\n",
              "      <td>9669909</td>\n",
              "    </tr>\n",
              "    <tr>\n",
              "      <th>4</th>\n",
              "      <td>8</td>\n",
              "      <td>Mobile Subscribers</td>\n",
              "      <td>4</td>\n",
              "      <td>2003</td>\n",
              "      <td>21616910</td>\n",
              "    </tr>\n",
              "    <tr>\n",
              "      <th>...</th>\n",
              "      <td>...</td>\n",
              "      <td>...</td>\n",
              "      <td>...</td>\n",
              "      <td>...</td>\n",
              "      <td>...</td>\n",
              "    </tr>\n",
              "    <tr>\n",
              "      <th>72</th>\n",
              "      <td>76</td>\n",
              "      <td>Mobile Subscribers</td>\n",
              "      <td>4</td>\n",
              "      <td>2020</td>\n",
              "      <td>116294420</td>\n",
              "    </tr>\n",
              "    <tr>\n",
              "      <th>73</th>\n",
              "      <td>75</td>\n",
              "      <td>Mobile Subscribers</td>\n",
              "      <td>3</td>\n",
              "      <td>2020</td>\n",
              "      <td>119169759</td>\n",
              "    </tr>\n",
              "    <tr>\n",
              "      <th>74</th>\n",
              "      <td>74</td>\n",
              "      <td>Mobile Subscribers</td>\n",
              "      <td>2</td>\n",
              "      <td>2020</td>\n",
              "      <td>131881072</td>\n",
              "    </tr>\n",
              "    <tr>\n",
              "      <th>75</th>\n",
              "      <td>73</td>\n",
              "      <td>Mobile Subscribers</td>\n",
              "      <td>1</td>\n",
              "      <td>2020</td>\n",
              "      <td>132594791</td>\n",
              "    </tr>\n",
              "    <tr>\n",
              "      <th>76</th>\n",
              "      <td>77</td>\n",
              "      <td>Mobile Subscribers</td>\n",
              "      <td>1</td>\n",
              "      <td>2021</td>\n",
              "      <td>117562201</td>\n",
              "    </tr>\n",
              "  </tbody>\n",
              "</table>\n",
              "<p>77 rows × 5 columns</p>\n",
              "</div>"
            ],
            "text/plain": [
              "    no. Mobile Market Report  quarter  year  value_mobile\n",
              "0     4   Mobile Subscribers        4  2002      17449890\n",
              "1     3   Mobile Subscribers        3  2002      15743776\n",
              "2     2   Mobile Subscribers        2  2002      12416261\n",
              "3     1   Mobile Subscribers        1  2002       9669909\n",
              "4     8   Mobile Subscribers        4  2003      21616910\n",
              "..  ...                  ...      ...   ...           ...\n",
              "72   76   Mobile Subscribers        4  2020     116294420\n",
              "73   75   Mobile Subscribers        3  2020     119169759\n",
              "74   74   Mobile Subscribers        2  2020     131881072\n",
              "75   73   Mobile Subscribers        1  2020     132594791\n",
              "76   77   Mobile Subscribers        1  2021     117562201\n",
              "\n",
              "[77 rows x 5 columns]"
            ]
          },
          "metadata": {},
          "execution_count": 16
        }
      ]
    },
    {
      "cell_type": "code",
      "metadata": {
        "id": "cNAeVcOsWXsO",
        "colab": {
          "base_uri": "https://localhost:8080/"
        },
        "outputId": "b5147825-d0fa-4eab-900d-aa58d820b81d"
      },
      "source": [
        "data_mobile.isnull().any() #เช็ค missing"
      ],
      "execution_count": 17,
      "outputs": [
        {
          "output_type": "execute_result",
          "data": {
            "text/plain": [
              "no.                     False\n",
              "Mobile Market Report    False\n",
              "quarter                 False\n",
              "year                    False\n",
              "value_mobile            False\n",
              "dtype: bool"
            ]
          },
          "metadata": {},
          "execution_count": 17
        }
      ]
    },
    {
      "cell_type": "code",
      "metadata": {
        "id": "NmXDoqGRWcPn",
        "colab": {
          "base_uri": "https://localhost:8080/",
          "height": 417
        },
        "outputId": "defddd0a-4d4c-4365-a756-42df2e55e3f6"
      },
      "source": [
        "data_mobile2 = data_mobile.sort_values(by=['no.']) #เรียงข้อมูลโดยใช้ column ของ No. เป็นหลักในการเรียง\n",
        "data_mobile2"
      ],
      "execution_count": 18,
      "outputs": [
        {
          "output_type": "execute_result",
          "data": {
            "text/html": [
              "<div>\n",
              "<style scoped>\n",
              "    .dataframe tbody tr th:only-of-type {\n",
              "        vertical-align: middle;\n",
              "    }\n",
              "\n",
              "    .dataframe tbody tr th {\n",
              "        vertical-align: top;\n",
              "    }\n",
              "\n",
              "    .dataframe thead th {\n",
              "        text-align: right;\n",
              "    }\n",
              "</style>\n",
              "<table border=\"1\" class=\"dataframe\">\n",
              "  <thead>\n",
              "    <tr style=\"text-align: right;\">\n",
              "      <th></th>\n",
              "      <th>no.</th>\n",
              "      <th>Mobile Market Report</th>\n",
              "      <th>quarter</th>\n",
              "      <th>year</th>\n",
              "      <th>value_mobile</th>\n",
              "    </tr>\n",
              "  </thead>\n",
              "  <tbody>\n",
              "    <tr>\n",
              "      <th>3</th>\n",
              "      <td>1</td>\n",
              "      <td>Mobile Subscribers</td>\n",
              "      <td>1</td>\n",
              "      <td>2002</td>\n",
              "      <td>9669909</td>\n",
              "    </tr>\n",
              "    <tr>\n",
              "      <th>2</th>\n",
              "      <td>2</td>\n",
              "      <td>Mobile Subscribers</td>\n",
              "      <td>2</td>\n",
              "      <td>2002</td>\n",
              "      <td>12416261</td>\n",
              "    </tr>\n",
              "    <tr>\n",
              "      <th>1</th>\n",
              "      <td>3</td>\n",
              "      <td>Mobile Subscribers</td>\n",
              "      <td>3</td>\n",
              "      <td>2002</td>\n",
              "      <td>15743776</td>\n",
              "    </tr>\n",
              "    <tr>\n",
              "      <th>0</th>\n",
              "      <td>4</td>\n",
              "      <td>Mobile Subscribers</td>\n",
              "      <td>4</td>\n",
              "      <td>2002</td>\n",
              "      <td>17449890</td>\n",
              "    </tr>\n",
              "    <tr>\n",
              "      <th>7</th>\n",
              "      <td>5</td>\n",
              "      <td>Mobile Subscribers</td>\n",
              "      <td>1</td>\n",
              "      <td>2003</td>\n",
              "      <td>18763102</td>\n",
              "    </tr>\n",
              "    <tr>\n",
              "      <th>...</th>\n",
              "      <td>...</td>\n",
              "      <td>...</td>\n",
              "      <td>...</td>\n",
              "      <td>...</td>\n",
              "      <td>...</td>\n",
              "    </tr>\n",
              "    <tr>\n",
              "      <th>75</th>\n",
              "      <td>73</td>\n",
              "      <td>Mobile Subscribers</td>\n",
              "      <td>1</td>\n",
              "      <td>2020</td>\n",
              "      <td>132594791</td>\n",
              "    </tr>\n",
              "    <tr>\n",
              "      <th>74</th>\n",
              "      <td>74</td>\n",
              "      <td>Mobile Subscribers</td>\n",
              "      <td>2</td>\n",
              "      <td>2020</td>\n",
              "      <td>131881072</td>\n",
              "    </tr>\n",
              "    <tr>\n",
              "      <th>73</th>\n",
              "      <td>75</td>\n",
              "      <td>Mobile Subscribers</td>\n",
              "      <td>3</td>\n",
              "      <td>2020</td>\n",
              "      <td>119169759</td>\n",
              "    </tr>\n",
              "    <tr>\n",
              "      <th>72</th>\n",
              "      <td>76</td>\n",
              "      <td>Mobile Subscribers</td>\n",
              "      <td>4</td>\n",
              "      <td>2020</td>\n",
              "      <td>116294420</td>\n",
              "    </tr>\n",
              "    <tr>\n",
              "      <th>76</th>\n",
              "      <td>77</td>\n",
              "      <td>Mobile Subscribers</td>\n",
              "      <td>1</td>\n",
              "      <td>2021</td>\n",
              "      <td>117562201</td>\n",
              "    </tr>\n",
              "  </tbody>\n",
              "</table>\n",
              "<p>77 rows × 5 columns</p>\n",
              "</div>"
            ],
            "text/plain": [
              "    no. Mobile Market Report  quarter  year  value_mobile\n",
              "3     1   Mobile Subscribers        1  2002       9669909\n",
              "2     2   Mobile Subscribers        2  2002      12416261\n",
              "1     3   Mobile Subscribers        3  2002      15743776\n",
              "0     4   Mobile Subscribers        4  2002      17449890\n",
              "7     5   Mobile Subscribers        1  2003      18763102\n",
              "..  ...                  ...      ...   ...           ...\n",
              "75   73   Mobile Subscribers        1  2020     132594791\n",
              "74   74   Mobile Subscribers        2  2020     131881072\n",
              "73   75   Mobile Subscribers        3  2020     119169759\n",
              "72   76   Mobile Subscribers        4  2020     116294420\n",
              "76   77   Mobile Subscribers        1  2021     117562201\n",
              "\n",
              "[77 rows x 5 columns]"
            ]
          },
          "metadata": {},
          "execution_count": 18
        }
      ]
    },
    {
      "cell_type": "code",
      "metadata": {
        "id": "0g68QdCdWe4F",
        "colab": {
          "base_uri": "https://localhost:8080/",
          "height": 417
        },
        "outputId": "49f37a33-b1ea-4069-930a-ad7dca3e2900"
      },
      "source": [
        "#ตัด column ที่ซ้ำกันออกคือ No. กับ QUARTER\n",
        "data_mobile2.drop(['quarter','year'], axis=1, inplace=True)  #axis=1 คือลบ column axis=0 คือลบ row\n",
        "data_mobile2"
      ],
      "execution_count": 19,
      "outputs": [
        {
          "output_type": "execute_result",
          "data": {
            "text/html": [
              "<div>\n",
              "<style scoped>\n",
              "    .dataframe tbody tr th:only-of-type {\n",
              "        vertical-align: middle;\n",
              "    }\n",
              "\n",
              "    .dataframe tbody tr th {\n",
              "        vertical-align: top;\n",
              "    }\n",
              "\n",
              "    .dataframe thead th {\n",
              "        text-align: right;\n",
              "    }\n",
              "</style>\n",
              "<table border=\"1\" class=\"dataframe\">\n",
              "  <thead>\n",
              "    <tr style=\"text-align: right;\">\n",
              "      <th></th>\n",
              "      <th>no.</th>\n",
              "      <th>Mobile Market Report</th>\n",
              "      <th>value_mobile</th>\n",
              "    </tr>\n",
              "  </thead>\n",
              "  <tbody>\n",
              "    <tr>\n",
              "      <th>3</th>\n",
              "      <td>1</td>\n",
              "      <td>Mobile Subscribers</td>\n",
              "      <td>9669909</td>\n",
              "    </tr>\n",
              "    <tr>\n",
              "      <th>2</th>\n",
              "      <td>2</td>\n",
              "      <td>Mobile Subscribers</td>\n",
              "      <td>12416261</td>\n",
              "    </tr>\n",
              "    <tr>\n",
              "      <th>1</th>\n",
              "      <td>3</td>\n",
              "      <td>Mobile Subscribers</td>\n",
              "      <td>15743776</td>\n",
              "    </tr>\n",
              "    <tr>\n",
              "      <th>0</th>\n",
              "      <td>4</td>\n",
              "      <td>Mobile Subscribers</td>\n",
              "      <td>17449890</td>\n",
              "    </tr>\n",
              "    <tr>\n",
              "      <th>7</th>\n",
              "      <td>5</td>\n",
              "      <td>Mobile Subscribers</td>\n",
              "      <td>18763102</td>\n",
              "    </tr>\n",
              "    <tr>\n",
              "      <th>...</th>\n",
              "      <td>...</td>\n",
              "      <td>...</td>\n",
              "      <td>...</td>\n",
              "    </tr>\n",
              "    <tr>\n",
              "      <th>75</th>\n",
              "      <td>73</td>\n",
              "      <td>Mobile Subscribers</td>\n",
              "      <td>132594791</td>\n",
              "    </tr>\n",
              "    <tr>\n",
              "      <th>74</th>\n",
              "      <td>74</td>\n",
              "      <td>Mobile Subscribers</td>\n",
              "      <td>131881072</td>\n",
              "    </tr>\n",
              "    <tr>\n",
              "      <th>73</th>\n",
              "      <td>75</td>\n",
              "      <td>Mobile Subscribers</td>\n",
              "      <td>119169759</td>\n",
              "    </tr>\n",
              "    <tr>\n",
              "      <th>72</th>\n",
              "      <td>76</td>\n",
              "      <td>Mobile Subscribers</td>\n",
              "      <td>116294420</td>\n",
              "    </tr>\n",
              "    <tr>\n",
              "      <th>76</th>\n",
              "      <td>77</td>\n",
              "      <td>Mobile Subscribers</td>\n",
              "      <td>117562201</td>\n",
              "    </tr>\n",
              "  </tbody>\n",
              "</table>\n",
              "<p>77 rows × 3 columns</p>\n",
              "</div>"
            ],
            "text/plain": [
              "    no. Mobile Market Report  value_mobile\n",
              "3     1   Mobile Subscribers       9669909\n",
              "2     2   Mobile Subscribers      12416261\n",
              "1     3   Mobile Subscribers      15743776\n",
              "0     4   Mobile Subscribers      17449890\n",
              "7     5   Mobile Subscribers      18763102\n",
              "..  ...                  ...           ...\n",
              "75   73   Mobile Subscribers     132594791\n",
              "74   74   Mobile Subscribers     131881072\n",
              "73   75   Mobile Subscribers     119169759\n",
              "72   76   Mobile Subscribers     116294420\n",
              "76   77   Mobile Subscribers     117562201\n",
              "\n",
              "[77 rows x 3 columns]"
            ]
          },
          "metadata": {},
          "execution_count": 19
        }
      ]
    },
    {
      "cell_type": "code",
      "metadata": {
        "id": "taYTBuZpWisv",
        "colab": {
          "base_uri": "https://localhost:8080/",
          "height": 417
        },
        "outputId": "e5c43ac4-630d-4f01-e3ac-fb26c491776a"
      },
      "source": [
        "data_mobile3 = data_mobile2.iloc[4:,:]\n",
        "data_mobile3"
      ],
      "execution_count": 20,
      "outputs": [
        {
          "output_type": "execute_result",
          "data": {
            "text/html": [
              "<div>\n",
              "<style scoped>\n",
              "    .dataframe tbody tr th:only-of-type {\n",
              "        vertical-align: middle;\n",
              "    }\n",
              "\n",
              "    .dataframe tbody tr th {\n",
              "        vertical-align: top;\n",
              "    }\n",
              "\n",
              "    .dataframe thead th {\n",
              "        text-align: right;\n",
              "    }\n",
              "</style>\n",
              "<table border=\"1\" class=\"dataframe\">\n",
              "  <thead>\n",
              "    <tr style=\"text-align: right;\">\n",
              "      <th></th>\n",
              "      <th>no.</th>\n",
              "      <th>Mobile Market Report</th>\n",
              "      <th>value_mobile</th>\n",
              "    </tr>\n",
              "  </thead>\n",
              "  <tbody>\n",
              "    <tr>\n",
              "      <th>7</th>\n",
              "      <td>5</td>\n",
              "      <td>Mobile Subscribers</td>\n",
              "      <td>18763102</td>\n",
              "    </tr>\n",
              "    <tr>\n",
              "      <th>6</th>\n",
              "      <td>6</td>\n",
              "      <td>Mobile Subscribers</td>\n",
              "      <td>19788956</td>\n",
              "    </tr>\n",
              "    <tr>\n",
              "      <th>5</th>\n",
              "      <td>7</td>\n",
              "      <td>Mobile Subscribers</td>\n",
              "      <td>20655866</td>\n",
              "    </tr>\n",
              "    <tr>\n",
              "      <th>4</th>\n",
              "      <td>8</td>\n",
              "      <td>Mobile Subscribers</td>\n",
              "      <td>21616910</td>\n",
              "    </tr>\n",
              "    <tr>\n",
              "      <th>11</th>\n",
              "      <td>9</td>\n",
              "      <td>Mobile Subscribers</td>\n",
              "      <td>23217311</td>\n",
              "    </tr>\n",
              "    <tr>\n",
              "      <th>...</th>\n",
              "      <td>...</td>\n",
              "      <td>...</td>\n",
              "      <td>...</td>\n",
              "    </tr>\n",
              "    <tr>\n",
              "      <th>75</th>\n",
              "      <td>73</td>\n",
              "      <td>Mobile Subscribers</td>\n",
              "      <td>132594791</td>\n",
              "    </tr>\n",
              "    <tr>\n",
              "      <th>74</th>\n",
              "      <td>74</td>\n",
              "      <td>Mobile Subscribers</td>\n",
              "      <td>131881072</td>\n",
              "    </tr>\n",
              "    <tr>\n",
              "      <th>73</th>\n",
              "      <td>75</td>\n",
              "      <td>Mobile Subscribers</td>\n",
              "      <td>119169759</td>\n",
              "    </tr>\n",
              "    <tr>\n",
              "      <th>72</th>\n",
              "      <td>76</td>\n",
              "      <td>Mobile Subscribers</td>\n",
              "      <td>116294420</td>\n",
              "    </tr>\n",
              "    <tr>\n",
              "      <th>76</th>\n",
              "      <td>77</td>\n",
              "      <td>Mobile Subscribers</td>\n",
              "      <td>117562201</td>\n",
              "    </tr>\n",
              "  </tbody>\n",
              "</table>\n",
              "<p>73 rows × 3 columns</p>\n",
              "</div>"
            ],
            "text/plain": [
              "    no. Mobile Market Report  value_mobile\n",
              "7     5   Mobile Subscribers      18763102\n",
              "6     6   Mobile Subscribers      19788956\n",
              "5     7   Mobile Subscribers      20655866\n",
              "4     8   Mobile Subscribers      21616910\n",
              "11    9   Mobile Subscribers      23217311\n",
              "..  ...                  ...           ...\n",
              "75   73   Mobile Subscribers     132594791\n",
              "74   74   Mobile Subscribers     131881072\n",
              "73   75   Mobile Subscribers     119169759\n",
              "72   76   Mobile Subscribers     116294420\n",
              "76   77   Mobile Subscribers     117562201\n",
              "\n",
              "[73 rows x 3 columns]"
            ]
          },
          "metadata": {},
          "execution_count": 20
        }
      ]
    },
    {
      "cell_type": "code",
      "metadata": {
        "id": "4ly-eAl1WnGV",
        "colab": {
          "base_uri": "https://localhost:8080/",
          "height": 638
        },
        "outputId": "f9918c65-4735-447a-ebe1-4509c4570bf4"
      },
      "source": [
        "#เชื่อมตาราง merge_table2 และ data_mobile เข้าด้วยกัน โดยให้ตาราง merge_table2 เป็นตารางหลัก\n",
        "merge_table3 = data_mobile3.merge(merge_table2,how='left',left_on='no.',right_on='no.')\n",
        "merge_table3"
      ],
      "execution_count": 21,
      "outputs": [
        {
          "output_type": "execute_result",
          "data": {
            "text/html": [
              "<div>\n",
              "<style scoped>\n",
              "    .dataframe tbody tr th:only-of-type {\n",
              "        vertical-align: middle;\n",
              "    }\n",
              "\n",
              "    .dataframe tbody tr th {\n",
              "        vertical-align: top;\n",
              "    }\n",
              "\n",
              "    .dataframe thead th {\n",
              "        text-align: right;\n",
              "    }\n",
              "</style>\n",
              "<table border=\"1\" class=\"dataframe\">\n",
              "  <thead>\n",
              "    <tr style=\"text-align: right;\">\n",
              "      <th></th>\n",
              "      <th>no.</th>\n",
              "      <th>Mobile Market Report</th>\n",
              "      <th>value_mobile</th>\n",
              "      <th>quarter</th>\n",
              "      <th>Thailand Internet Users_subscriber</th>\n",
              "      <th>year</th>\n",
              "      <th>value_subscriber</th>\n",
              "      <th>type_population</th>\n",
              "      <th>value_population</th>\n",
              "      <th>type_household</th>\n",
              "      <th>value_household</th>\n",
              "    </tr>\n",
              "  </thead>\n",
              "  <tbody>\n",
              "    <tr>\n",
              "      <th>0</th>\n",
              "      <td>5</td>\n",
              "      <td>Mobile Subscribers</td>\n",
              "      <td>18763102</td>\n",
              "      <td>1.0</td>\n",
              "      <td>Total Internet subscribers</td>\n",
              "      <td>2004.0</td>\n",
              "      <td>785931.00</td>\n",
              "      <td>per population (%)</td>\n",
              "      <td>0.0005</td>\n",
              "      <td>per household (%)</td>\n",
              "      <td>0.001556</td>\n",
              "    </tr>\n",
              "    <tr>\n",
              "      <th>1</th>\n",
              "      <td>6</td>\n",
              "      <td>Mobile Subscribers</td>\n",
              "      <td>19788956</td>\n",
              "      <td>2.0</td>\n",
              "      <td>Total Internet subscribers</td>\n",
              "      <td>2004.0</td>\n",
              "      <td>914400.00</td>\n",
              "      <td>per population (%)</td>\n",
              "      <td>0.0007</td>\n",
              "      <td>per household (%)</td>\n",
              "      <td>0.002265</td>\n",
              "    </tr>\n",
              "    <tr>\n",
              "      <th>2</th>\n",
              "      <td>7</td>\n",
              "      <td>Mobile Subscribers</td>\n",
              "      <td>20655866</td>\n",
              "      <td>3.0</td>\n",
              "      <td>Total Internet subscribers</td>\n",
              "      <td>2004.0</td>\n",
              "      <td>1091652.00</td>\n",
              "      <td>per population (%)</td>\n",
              "      <td>0.0015</td>\n",
              "      <td>per household (%)</td>\n",
              "      <td>0.004964</td>\n",
              "    </tr>\n",
              "    <tr>\n",
              "      <th>3</th>\n",
              "      <td>8</td>\n",
              "      <td>Mobile Subscribers</td>\n",
              "      <td>21616910</td>\n",
              "      <td>4.0</td>\n",
              "      <td>Total Internet subscribers</td>\n",
              "      <td>2004.0</td>\n",
              "      <td>1231344.00</td>\n",
              "      <td>per population (%)</td>\n",
              "      <td>0.0026</td>\n",
              "      <td>per household (%)</td>\n",
              "      <td>0.008716</td>\n",
              "    </tr>\n",
              "    <tr>\n",
              "      <th>4</th>\n",
              "      <td>9</td>\n",
              "      <td>Mobile Subscribers</td>\n",
              "      <td>23217311</td>\n",
              "      <td>1.0</td>\n",
              "      <td>Total Internet subscribers</td>\n",
              "      <td>2005.0</td>\n",
              "      <td>1197942.00</td>\n",
              "      <td>per population (%)</td>\n",
              "      <td>0.0045</td>\n",
              "      <td>per household (%)</td>\n",
              "      <td>0.015449</td>\n",
              "    </tr>\n",
              "    <tr>\n",
              "      <th>...</th>\n",
              "      <td>...</td>\n",
              "      <td>...</td>\n",
              "      <td>...</td>\n",
              "      <td>...</td>\n",
              "      <td>...</td>\n",
              "      <td>...</td>\n",
              "      <td>...</td>\n",
              "      <td>...</td>\n",
              "      <td>...</td>\n",
              "      <td>...</td>\n",
              "      <td>...</td>\n",
              "    </tr>\n",
              "    <tr>\n",
              "      <th>68</th>\n",
              "      <td>73</td>\n",
              "      <td>Mobile Subscribers</td>\n",
              "      <td>132594791</td>\n",
              "      <td>1.0</td>\n",
              "      <td>Total Internet subscribers</td>\n",
              "      <td>2021.0</td>\n",
              "      <td>11876158.44</td>\n",
              "      <td>per population (%)</td>\n",
              "      <td>0.1740</td>\n",
              "      <td>per household (%)</td>\n",
              "      <td>0.532524</td>\n",
              "    </tr>\n",
              "    <tr>\n",
              "      <th>69</th>\n",
              "      <td>74</td>\n",
              "      <td>Mobile Subscribers</td>\n",
              "      <td>131881072</td>\n",
              "      <td>NaN</td>\n",
              "      <td>NaN</td>\n",
              "      <td>NaN</td>\n",
              "      <td>NaN</td>\n",
              "      <td>NaN</td>\n",
              "      <td>NaN</td>\n",
              "      <td>NaN</td>\n",
              "      <td>NaN</td>\n",
              "    </tr>\n",
              "    <tr>\n",
              "      <th>70</th>\n",
              "      <td>75</td>\n",
              "      <td>Mobile Subscribers</td>\n",
              "      <td>119169759</td>\n",
              "      <td>NaN</td>\n",
              "      <td>NaN</td>\n",
              "      <td>NaN</td>\n",
              "      <td>NaN</td>\n",
              "      <td>NaN</td>\n",
              "      <td>NaN</td>\n",
              "      <td>NaN</td>\n",
              "      <td>NaN</td>\n",
              "    </tr>\n",
              "    <tr>\n",
              "      <th>71</th>\n",
              "      <td>76</td>\n",
              "      <td>Mobile Subscribers</td>\n",
              "      <td>116294420</td>\n",
              "      <td>NaN</td>\n",
              "      <td>NaN</td>\n",
              "      <td>NaN</td>\n",
              "      <td>NaN</td>\n",
              "      <td>NaN</td>\n",
              "      <td>NaN</td>\n",
              "      <td>NaN</td>\n",
              "      <td>NaN</td>\n",
              "    </tr>\n",
              "    <tr>\n",
              "      <th>72</th>\n",
              "      <td>77</td>\n",
              "      <td>Mobile Subscribers</td>\n",
              "      <td>117562201</td>\n",
              "      <td>NaN</td>\n",
              "      <td>NaN</td>\n",
              "      <td>NaN</td>\n",
              "      <td>NaN</td>\n",
              "      <td>NaN</td>\n",
              "      <td>NaN</td>\n",
              "      <td>NaN</td>\n",
              "      <td>NaN</td>\n",
              "    </tr>\n",
              "  </tbody>\n",
              "</table>\n",
              "<p>73 rows × 11 columns</p>\n",
              "</div>"
            ],
            "text/plain": [
              "    no. Mobile Market Report  ...     type_household  value_household\n",
              "0     5   Mobile Subscribers  ...  per household (%)         0.001556\n",
              "1     6   Mobile Subscribers  ...  per household (%)         0.002265\n",
              "2     7   Mobile Subscribers  ...  per household (%)         0.004964\n",
              "3     8   Mobile Subscribers  ...  per household (%)         0.008716\n",
              "4     9   Mobile Subscribers  ...  per household (%)         0.015449\n",
              "..  ...                  ...  ...                ...              ...\n",
              "68   73   Mobile Subscribers  ...  per household (%)         0.532524\n",
              "69   74   Mobile Subscribers  ...                NaN              NaN\n",
              "70   75   Mobile Subscribers  ...                NaN              NaN\n",
              "71   76   Mobile Subscribers  ...                NaN              NaN\n",
              "72   77   Mobile Subscribers  ...                NaN              NaN\n",
              "\n",
              "[73 rows x 11 columns]"
            ]
          },
          "metadata": {},
          "execution_count": 21
        }
      ]
    },
    {
      "cell_type": "code",
      "metadata": {
        "id": "d3ZS99XpWqjc",
        "colab": {
          "base_uri": "https://localhost:8080/"
        },
        "outputId": "984cec12-2235-4c00-e40f-90fd65ac3885"
      },
      "source": [
        "merge_table3.isnull().any() #เช็ค missing"
      ],
      "execution_count": 22,
      "outputs": [
        {
          "output_type": "execute_result",
          "data": {
            "text/plain": [
              "no.                                   False\n",
              "Mobile Market Report                  False\n",
              "value_mobile                          False\n",
              "quarter                                True\n",
              "Thailand Internet Users_subscriber     True\n",
              "year                                   True\n",
              "value_subscriber                       True\n",
              "type_population                        True\n",
              "value_population                       True\n",
              "type_household                         True\n",
              "value_household                        True\n",
              "dtype: bool"
            ]
          },
          "metadata": {},
          "execution_count": 22
        }
      ]
    },
    {
      "cell_type": "code",
      "metadata": {
        "id": "z3h5TpUiWyco",
        "colab": {
          "base_uri": "https://localhost:8080/",
          "height": 638
        },
        "outputId": "816c96c5-946e-4620-e32b-b89aedfedb36"
      },
      "source": [
        "#จัดการ missing โดยการ dropna()\n",
        "merge_table3_drop = merge_table3.dropna()\n",
        "merge_table3_drop"
      ],
      "execution_count": 23,
      "outputs": [
        {
          "output_type": "execute_result",
          "data": {
            "text/html": [
              "<div>\n",
              "<style scoped>\n",
              "    .dataframe tbody tr th:only-of-type {\n",
              "        vertical-align: middle;\n",
              "    }\n",
              "\n",
              "    .dataframe tbody tr th {\n",
              "        vertical-align: top;\n",
              "    }\n",
              "\n",
              "    .dataframe thead th {\n",
              "        text-align: right;\n",
              "    }\n",
              "</style>\n",
              "<table border=\"1\" class=\"dataframe\">\n",
              "  <thead>\n",
              "    <tr style=\"text-align: right;\">\n",
              "      <th></th>\n",
              "      <th>no.</th>\n",
              "      <th>Mobile Market Report</th>\n",
              "      <th>value_mobile</th>\n",
              "      <th>quarter</th>\n",
              "      <th>Thailand Internet Users_subscriber</th>\n",
              "      <th>year</th>\n",
              "      <th>value_subscriber</th>\n",
              "      <th>type_population</th>\n",
              "      <th>value_population</th>\n",
              "      <th>type_household</th>\n",
              "      <th>value_household</th>\n",
              "    </tr>\n",
              "  </thead>\n",
              "  <tbody>\n",
              "    <tr>\n",
              "      <th>0</th>\n",
              "      <td>5</td>\n",
              "      <td>Mobile Subscribers</td>\n",
              "      <td>18763102</td>\n",
              "      <td>1.0</td>\n",
              "      <td>Total Internet subscribers</td>\n",
              "      <td>2004.0</td>\n",
              "      <td>785931.00</td>\n",
              "      <td>per population (%)</td>\n",
              "      <td>0.0005</td>\n",
              "      <td>per household (%)</td>\n",
              "      <td>0.001556</td>\n",
              "    </tr>\n",
              "    <tr>\n",
              "      <th>1</th>\n",
              "      <td>6</td>\n",
              "      <td>Mobile Subscribers</td>\n",
              "      <td>19788956</td>\n",
              "      <td>2.0</td>\n",
              "      <td>Total Internet subscribers</td>\n",
              "      <td>2004.0</td>\n",
              "      <td>914400.00</td>\n",
              "      <td>per population (%)</td>\n",
              "      <td>0.0007</td>\n",
              "      <td>per household (%)</td>\n",
              "      <td>0.002265</td>\n",
              "    </tr>\n",
              "    <tr>\n",
              "      <th>2</th>\n",
              "      <td>7</td>\n",
              "      <td>Mobile Subscribers</td>\n",
              "      <td>20655866</td>\n",
              "      <td>3.0</td>\n",
              "      <td>Total Internet subscribers</td>\n",
              "      <td>2004.0</td>\n",
              "      <td>1091652.00</td>\n",
              "      <td>per population (%)</td>\n",
              "      <td>0.0015</td>\n",
              "      <td>per household (%)</td>\n",
              "      <td>0.004964</td>\n",
              "    </tr>\n",
              "    <tr>\n",
              "      <th>3</th>\n",
              "      <td>8</td>\n",
              "      <td>Mobile Subscribers</td>\n",
              "      <td>21616910</td>\n",
              "      <td>4.0</td>\n",
              "      <td>Total Internet subscribers</td>\n",
              "      <td>2004.0</td>\n",
              "      <td>1231344.00</td>\n",
              "      <td>per population (%)</td>\n",
              "      <td>0.0026</td>\n",
              "      <td>per household (%)</td>\n",
              "      <td>0.008716</td>\n",
              "    </tr>\n",
              "    <tr>\n",
              "      <th>4</th>\n",
              "      <td>9</td>\n",
              "      <td>Mobile Subscribers</td>\n",
              "      <td>23217311</td>\n",
              "      <td>1.0</td>\n",
              "      <td>Total Internet subscribers</td>\n",
              "      <td>2005.0</td>\n",
              "      <td>1197942.00</td>\n",
              "      <td>per population (%)</td>\n",
              "      <td>0.0045</td>\n",
              "      <td>per household (%)</td>\n",
              "      <td>0.015449</td>\n",
              "    </tr>\n",
              "    <tr>\n",
              "      <th>...</th>\n",
              "      <td>...</td>\n",
              "      <td>...</td>\n",
              "      <td>...</td>\n",
              "      <td>...</td>\n",
              "      <td>...</td>\n",
              "      <td>...</td>\n",
              "      <td>...</td>\n",
              "      <td>...</td>\n",
              "      <td>...</td>\n",
              "      <td>...</td>\n",
              "      <td>...</td>\n",
              "    </tr>\n",
              "    <tr>\n",
              "      <th>64</th>\n",
              "      <td>69</td>\n",
              "      <td>Mobile Subscribers</td>\n",
              "      <td>122173569</td>\n",
              "      <td>1.0</td>\n",
              "      <td>Total Internet subscribers</td>\n",
              "      <td>2020.0</td>\n",
              "      <td>10264995.67</td>\n",
              "      <td>per population (%)</td>\n",
              "      <td>0.1510</td>\n",
              "      <td>per household (%)</td>\n",
              "      <td>0.469344</td>\n",
              "    </tr>\n",
              "    <tr>\n",
              "      <th>65</th>\n",
              "      <td>70</td>\n",
              "      <td>Mobile Subscribers</td>\n",
              "      <td>124366678</td>\n",
              "      <td>2.0</td>\n",
              "      <td>Total Internet subscribers</td>\n",
              "      <td>2020.0</td>\n",
              "      <td>10912996.14</td>\n",
              "      <td>per population (%)</td>\n",
              "      <td>0.1605</td>\n",
              "      <td>per household (%)</td>\n",
              "      <td>0.498972</td>\n",
              "    </tr>\n",
              "    <tr>\n",
              "      <th>66</th>\n",
              "      <td>71</td>\n",
              "      <td>Mobile Subscribers</td>\n",
              "      <td>126137528</td>\n",
              "      <td>3.0</td>\n",
              "      <td>Total Internet subscribers</td>\n",
              "      <td>2020.0</td>\n",
              "      <td>11282645.58</td>\n",
              "      <td>per population (%)</td>\n",
              "      <td>0.1659</td>\n",
              "      <td>per household (%)</td>\n",
              "      <td>0.515873</td>\n",
              "    </tr>\n",
              "    <tr>\n",
              "      <th>67</th>\n",
              "      <td>72</td>\n",
              "      <td>Mobile Subscribers</td>\n",
              "      <td>129613743</td>\n",
              "      <td>4.0</td>\n",
              "      <td>Total Internet subscribers</td>\n",
              "      <td>2020.0</td>\n",
              "      <td>11478264.92</td>\n",
              "      <td>per population (%)</td>\n",
              "      <td>0.1685</td>\n",
              "      <td>per household (%)</td>\n",
              "      <td>0.514683</td>\n",
              "    </tr>\n",
              "    <tr>\n",
              "      <th>68</th>\n",
              "      <td>73</td>\n",
              "      <td>Mobile Subscribers</td>\n",
              "      <td>132594791</td>\n",
              "      <td>1.0</td>\n",
              "      <td>Total Internet subscribers</td>\n",
              "      <td>2021.0</td>\n",
              "      <td>11876158.44</td>\n",
              "      <td>per population (%)</td>\n",
              "      <td>0.1740</td>\n",
              "      <td>per household (%)</td>\n",
              "      <td>0.532524</td>\n",
              "    </tr>\n",
              "  </tbody>\n",
              "</table>\n",
              "<p>69 rows × 11 columns</p>\n",
              "</div>"
            ],
            "text/plain": [
              "    no. Mobile Market Report  ...     type_household  value_household\n",
              "0     5   Mobile Subscribers  ...  per household (%)         0.001556\n",
              "1     6   Mobile Subscribers  ...  per household (%)         0.002265\n",
              "2     7   Mobile Subscribers  ...  per household (%)         0.004964\n",
              "3     8   Mobile Subscribers  ...  per household (%)         0.008716\n",
              "4     9   Mobile Subscribers  ...  per household (%)         0.015449\n",
              "..  ...                  ...  ...                ...              ...\n",
              "64   69   Mobile Subscribers  ...  per household (%)         0.469344\n",
              "65   70   Mobile Subscribers  ...  per household (%)         0.498972\n",
              "66   71   Mobile Subscribers  ...  per household (%)         0.515873\n",
              "67   72   Mobile Subscribers  ...  per household (%)         0.514683\n",
              "68   73   Mobile Subscribers  ...  per household (%)         0.532524\n",
              "\n",
              "[69 rows x 11 columns]"
            ]
          },
          "metadata": {},
          "execution_count": 23
        }
      ]
    },
    {
      "cell_type": "code",
      "metadata": {
        "id": "VE966kOZW0zx",
        "colab": {
          "base_uri": "https://localhost:8080/"
        },
        "outputId": "c4dff1e7-4e05-48e9-e73a-ba50107adb3f"
      },
      "source": [
        "merge_table3_drop.isnull().any() #เช็ค missing"
      ],
      "execution_count": 24,
      "outputs": [
        {
          "output_type": "execute_result",
          "data": {
            "text/plain": [
              "no.                                   False\n",
              "Mobile Market Report                  False\n",
              "value_mobile                          False\n",
              "quarter                               False\n",
              "Thailand Internet Users_subscriber    False\n",
              "year                                  False\n",
              "value_subscriber                      False\n",
              "type_population                       False\n",
              "value_population                      False\n",
              "type_household                        False\n",
              "value_household                       False\n",
              "dtype: bool"
            ]
          },
          "metadata": {},
          "execution_count": 24
        }
      ]
    },
    {
      "cell_type": "code",
      "metadata": {
        "id": "R7CNd71cW4mo",
        "colab": {
          "base_uri": "https://localhost:8080/"
        },
        "outputId": "ae7caa7d-cfc2-42a9-87c6-1fc3be8b0ecc"
      },
      "source": [
        "#จากการทำ dropna() ทำให้ข้อมูลหายไปกี่ % \n",
        "removed = merge_table3.shape[0] - merge_table3_drop.shape[0]\n",
        "\n",
        "print(f'size before drop = {merge_table3.shape[0]}')\n",
        "print(f'size aftre drop = {merge_table3_drop.shape[0]}')\n",
        "print(f'we loss {100*(removed/merge_table3.shape[0])}% of data')"
      ],
      "execution_count": 25,
      "outputs": [
        {
          "output_type": "stream",
          "name": "stdout",
          "text": [
            "size before drop = 73\n",
            "size aftre drop = 69\n",
            "we loss 5.47945205479452% of data\n"
          ]
        }
      ]
    },
    {
      "cell_type": "markdown",
      "metadata": {
        "id": "3ZGO9L81W7WB"
      },
      "source": [
        "#**Classification**\n",
        "\n",
        "กำหนดค่าในตาราง เพื่อให้ข้อมูลในตารางนำไปใช้ในการ Assosiation ได้ โดยการเพิ่ม column ใหม่ในตาราง merge_table3_drop และ column ที่สร้างใหม่นั้นจะตามหลังด้วย _group โดยการจัดกลุ่มให้ค่าทั้งหมดในแต่ละ column ซึ่งจัดกลุ่มดังนี้"
      ]
    },
    {
      "cell_type": "code",
      "metadata": {
        "id": "8CmKEf4_XAIp"
      },
      "source": [
        "from pandas.api.types import CategoricalDtype"
      ],
      "execution_count": 26,
      "outputs": []
    },
    {
      "cell_type": "markdown",
      "metadata": {
        "id": "zfCVvdBDXIH2"
      },
      "source": [
        "##**เพิ่ม column ใหม่ในตาราง merge_table3_drop**"
      ]
    },
    {
      "cell_type": "code",
      "metadata": {
        "id": "-zvhXB0IXKmO",
        "colab": {
          "base_uri": "https://localhost:8080/"
        },
        "outputId": "ad824050-8edd-40fe-dc2b-470eddb3009d"
      },
      "source": [
        "merge_table3_drop.columns"
      ],
      "execution_count": 27,
      "outputs": [
        {
          "output_type": "execute_result",
          "data": {
            "text/plain": [
              "Index(['no.', 'Mobile Market Report', 'value_mobile', 'quarter',\n",
              "       'Thailand Internet Users_subscriber', 'year', 'value_subscriber',\n",
              "       'type_population', 'value_population', 'type_household',\n",
              "       'value_household'],\n",
              "      dtype='object')"
            ]
          },
          "metadata": {},
          "execution_count": 27
        }
      ]
    },
    {
      "cell_type": "markdown",
      "metadata": {
        "id": "4FpKrEiaXOQz"
      },
      "source": [
        "**column ชื่อว่า subscriber_group**\n",
        "\n",
        "* ถ้ามีค่าตั้งแต่ 0 - 2000000 จะให้เป็น low_subscriber\n",
        "* ถ้ามีค่าตั้งแต่ 2000000 - 5000000 จะให้เป็น median_subscriber\n",
        "* ถ้ามีค่าตั้งแต่ 5000000 - 12000000 จะให้เป็น high_subscriber"
      ]
    },
    {
      "cell_type": "code",
      "metadata": {
        "id": "c4u5EO1kXSIS",
        "colab": {
          "base_uri": "https://localhost:8080/"
        },
        "outputId": "1ac97198-00e4-4d4a-8dd2-5ba6f0e4e230"
      },
      "source": [
        "bucket = ['low_subscriber','median_subscriber','high_subscriber']  #กำหนดกลุ่มข้อมูล\n",
        "merge_table3_drop['subscriber_group'] = pd.cut(merge_table3_drop.value_subscriber,  #เลือก column ที่ต้องการแปลงข้อมูล\n",
        "                            bins=[0,2000000,5000000,12000000],  #กำหนดช่วงของข้อมูล\n",
        "                            labels=bucket,\n",
        "                            right=False).astype(str).astype(CategoricalDtype(bucket,ordered=True))"
      ],
      "execution_count": 28,
      "outputs": [
        {
          "output_type": "stream",
          "name": "stderr",
          "text": [
            "/usr/local/lib/python3.7/dist-packages/ipykernel_launcher.py:5: SettingWithCopyWarning: \n",
            "A value is trying to be set on a copy of a slice from a DataFrame.\n",
            "Try using .loc[row_indexer,col_indexer] = value instead\n",
            "\n",
            "See the caveats in the documentation: https://pandas.pydata.org/pandas-docs/stable/user_guide/indexing.html#returning-a-view-versus-a-copy\n",
            "  \"\"\"\n"
          ]
        }
      ]
    },
    {
      "cell_type": "markdown",
      "metadata": {
        "id": "Npy37M3AXYtu"
      },
      "source": [
        "**column ชื่อว่า household_group**\n",
        "\n",
        "* ถ้ามีค่าตั้งแต่ 0 - 0.1 จะให้เป็น low_household\n",
        "* ถ้ามีค่าตั้งแต่ 0.1 - 0.3 จะให้เป็น median_household\n",
        "* ถ้ามีค่าตั้งแต่ 0.3 - 0.6 จะให้เป็น high_household"
      ]
    },
    {
      "cell_type": "code",
      "metadata": {
        "id": "4-UNvSReXc8d",
        "colab": {
          "base_uri": "https://localhost:8080/"
        },
        "outputId": "81bc1660-7d7e-43e1-a43a-6724ef889d21"
      },
      "source": [
        "bucket = ['low_household','median_household','high_household']  #กำหนดกลุ่มข้อมูล\n",
        "merge_table3_drop['household_group'] = pd.cut(merge_table3_drop.value_household,  #เลือก column ที่ต้องการแปลงข้อมูล\n",
        "                            bins=[0,0.1,0.3,0.6],  #กำหนดช่วงของข้อมูล\n",
        "                            labels=bucket,\n",
        "                            right=False).astype(str).astype(CategoricalDtype(bucket,ordered=True))"
      ],
      "execution_count": 29,
      "outputs": [
        {
          "output_type": "stream",
          "name": "stderr",
          "text": [
            "/usr/local/lib/python3.7/dist-packages/ipykernel_launcher.py:5: SettingWithCopyWarning: \n",
            "A value is trying to be set on a copy of a slice from a DataFrame.\n",
            "Try using .loc[row_indexer,col_indexer] = value instead\n",
            "\n",
            "See the caveats in the documentation: https://pandas.pydata.org/pandas-docs/stable/user_guide/indexing.html#returning-a-view-versus-a-copy\n",
            "  \"\"\"\n"
          ]
        }
      ]
    },
    {
      "cell_type": "markdown",
      "metadata": {
        "id": "ofpgewmNXe0E"
      },
      "source": [
        "**column ชื่อว่า population_group**\n",
        "\n",
        "* ถ้ามีค่าตั้งแต่ 0 - 0.05 จะให้เป็น low_population\n",
        "* ถ้ามีค่าตั้งแต่ 0.05 - 0.10 จะให้เป็น median_population\n",
        "* ถ้ามีค่าตั้งแต่ 0.10 - 0.18 จะให้เป็น high_population"
      ]
    },
    {
      "cell_type": "code",
      "metadata": {
        "id": "lmYbTXTxXkhL",
        "colab": {
          "base_uri": "https://localhost:8080/"
        },
        "outputId": "613ac540-cd84-4b9d-cc2c-ec534d062a60"
      },
      "source": [
        "bucket = ['low_population','median_population','high_population']  #กำหนดกลุ่มข้อมูล\n",
        "merge_table3_drop['population_group'] = pd.cut(merge_table3_drop.value_population,  #เลือก column ที่ต้องการแปลงข้อมูล\n",
        "                            bins=[0,0.05,0.10,0.18],  #กำหนดช่วงของข้อมูล\n",
        "                            labels=bucket,\n",
        "                            right=False).astype(str).astype(CategoricalDtype(bucket,ordered=True))"
      ],
      "execution_count": 30,
      "outputs": [
        {
          "output_type": "stream",
          "name": "stderr",
          "text": [
            "/usr/local/lib/python3.7/dist-packages/ipykernel_launcher.py:5: SettingWithCopyWarning: \n",
            "A value is trying to be set on a copy of a slice from a DataFrame.\n",
            "Try using .loc[row_indexer,col_indexer] = value instead\n",
            "\n",
            "See the caveats in the documentation: https://pandas.pydata.org/pandas-docs/stable/user_guide/indexing.html#returning-a-view-versus-a-copy\n",
            "  \"\"\"\n"
          ]
        }
      ]
    },
    {
      "cell_type": "markdown",
      "metadata": {
        "id": "hkF-n2BTXmnl"
      },
      "source": [
        "**column ชื่อว่า mobile_group**\n",
        "\n",
        "* ถ้ามีค่าตั้งแต่ 0 - 2000000 จะให้เป็น low_mobile\n",
        "* ถ้ามีค่าตั้งแต่ 2000000 - 5000000 จะให้เป็น median_mobile\n",
        "* ถ้ามีค่าตั้งแต่ 5000000 - 12000000 จะให้เป็น high_mobile"
      ]
    },
    {
      "cell_type": "code",
      "metadata": {
        "id": "pMIdQ2crXrFw",
        "colab": {
          "base_uri": "https://localhost:8080/"
        },
        "outputId": "7e0c420b-5fbe-4a62-b23b-adc694156b6a"
      },
      "source": [
        "bucket = ['low_mobile','median_mobile','high_mobile']  #กำหนดกลุ่มข้อมูล\n",
        "merge_table3_drop['mobile_group'] = pd.cut(merge_table3_drop.value_mobile,  #เลือก column ที่ต้องการแปลงข้อมูล\n",
        "                            bins=[0,50000000,100000000,140000000],  #กำหนดช่วงของข้อมูล\n",
        "                            labels=bucket,\n",
        "                            right=False).astype(str).astype(CategoricalDtype(bucket,ordered=True))"
      ],
      "execution_count": 31,
      "outputs": [
        {
          "output_type": "stream",
          "name": "stderr",
          "text": [
            "/usr/local/lib/python3.7/dist-packages/ipykernel_launcher.py:5: SettingWithCopyWarning: \n",
            "A value is trying to be set on a copy of a slice from a DataFrame.\n",
            "Try using .loc[row_indexer,col_indexer] = value instead\n",
            "\n",
            "See the caveats in the documentation: https://pandas.pydata.org/pandas-docs/stable/user_guide/indexing.html#returning-a-view-versus-a-copy\n",
            "  \"\"\"\n"
          ]
        }
      ]
    },
    {
      "cell_type": "code",
      "metadata": {
        "id": "o5KakpAwXtGE",
        "colab": {
          "base_uri": "https://localhost:8080/",
          "height": 638
        },
        "outputId": "cbf17167-833d-48e7-ddbb-4edfa5f41bc1"
      },
      "source": [
        "merge_table3_drop  #ตารางแสดงผลจากการเพิ่ม column"
      ],
      "execution_count": 32,
      "outputs": [
        {
          "output_type": "execute_result",
          "data": {
            "text/html": [
              "<div>\n",
              "<style scoped>\n",
              "    .dataframe tbody tr th:only-of-type {\n",
              "        vertical-align: middle;\n",
              "    }\n",
              "\n",
              "    .dataframe tbody tr th {\n",
              "        vertical-align: top;\n",
              "    }\n",
              "\n",
              "    .dataframe thead th {\n",
              "        text-align: right;\n",
              "    }\n",
              "</style>\n",
              "<table border=\"1\" class=\"dataframe\">\n",
              "  <thead>\n",
              "    <tr style=\"text-align: right;\">\n",
              "      <th></th>\n",
              "      <th>no.</th>\n",
              "      <th>Mobile Market Report</th>\n",
              "      <th>value_mobile</th>\n",
              "      <th>quarter</th>\n",
              "      <th>Thailand Internet Users_subscriber</th>\n",
              "      <th>year</th>\n",
              "      <th>value_subscriber</th>\n",
              "      <th>type_population</th>\n",
              "      <th>value_population</th>\n",
              "      <th>type_household</th>\n",
              "      <th>value_household</th>\n",
              "      <th>subscriber_group</th>\n",
              "      <th>household_group</th>\n",
              "      <th>population_group</th>\n",
              "      <th>mobile_group</th>\n",
              "    </tr>\n",
              "  </thead>\n",
              "  <tbody>\n",
              "    <tr>\n",
              "      <th>0</th>\n",
              "      <td>5</td>\n",
              "      <td>Mobile Subscribers</td>\n",
              "      <td>18763102</td>\n",
              "      <td>1.0</td>\n",
              "      <td>Total Internet subscribers</td>\n",
              "      <td>2004.0</td>\n",
              "      <td>785931.00</td>\n",
              "      <td>per population (%)</td>\n",
              "      <td>0.0005</td>\n",
              "      <td>per household (%)</td>\n",
              "      <td>0.001556</td>\n",
              "      <td>low_subscriber</td>\n",
              "      <td>low_household</td>\n",
              "      <td>low_population</td>\n",
              "      <td>low_mobile</td>\n",
              "    </tr>\n",
              "    <tr>\n",
              "      <th>1</th>\n",
              "      <td>6</td>\n",
              "      <td>Mobile Subscribers</td>\n",
              "      <td>19788956</td>\n",
              "      <td>2.0</td>\n",
              "      <td>Total Internet subscribers</td>\n",
              "      <td>2004.0</td>\n",
              "      <td>914400.00</td>\n",
              "      <td>per population (%)</td>\n",
              "      <td>0.0007</td>\n",
              "      <td>per household (%)</td>\n",
              "      <td>0.002265</td>\n",
              "      <td>low_subscriber</td>\n",
              "      <td>low_household</td>\n",
              "      <td>low_population</td>\n",
              "      <td>low_mobile</td>\n",
              "    </tr>\n",
              "    <tr>\n",
              "      <th>2</th>\n",
              "      <td>7</td>\n",
              "      <td>Mobile Subscribers</td>\n",
              "      <td>20655866</td>\n",
              "      <td>3.0</td>\n",
              "      <td>Total Internet subscribers</td>\n",
              "      <td>2004.0</td>\n",
              "      <td>1091652.00</td>\n",
              "      <td>per population (%)</td>\n",
              "      <td>0.0015</td>\n",
              "      <td>per household (%)</td>\n",
              "      <td>0.004964</td>\n",
              "      <td>low_subscriber</td>\n",
              "      <td>low_household</td>\n",
              "      <td>low_population</td>\n",
              "      <td>low_mobile</td>\n",
              "    </tr>\n",
              "    <tr>\n",
              "      <th>3</th>\n",
              "      <td>8</td>\n",
              "      <td>Mobile Subscribers</td>\n",
              "      <td>21616910</td>\n",
              "      <td>4.0</td>\n",
              "      <td>Total Internet subscribers</td>\n",
              "      <td>2004.0</td>\n",
              "      <td>1231344.00</td>\n",
              "      <td>per population (%)</td>\n",
              "      <td>0.0026</td>\n",
              "      <td>per household (%)</td>\n",
              "      <td>0.008716</td>\n",
              "      <td>low_subscriber</td>\n",
              "      <td>low_household</td>\n",
              "      <td>low_population</td>\n",
              "      <td>low_mobile</td>\n",
              "    </tr>\n",
              "    <tr>\n",
              "      <th>4</th>\n",
              "      <td>9</td>\n",
              "      <td>Mobile Subscribers</td>\n",
              "      <td>23217311</td>\n",
              "      <td>1.0</td>\n",
              "      <td>Total Internet subscribers</td>\n",
              "      <td>2005.0</td>\n",
              "      <td>1197942.00</td>\n",
              "      <td>per population (%)</td>\n",
              "      <td>0.0045</td>\n",
              "      <td>per household (%)</td>\n",
              "      <td>0.015449</td>\n",
              "      <td>low_subscriber</td>\n",
              "      <td>low_household</td>\n",
              "      <td>low_population</td>\n",
              "      <td>low_mobile</td>\n",
              "    </tr>\n",
              "    <tr>\n",
              "      <th>...</th>\n",
              "      <td>...</td>\n",
              "      <td>...</td>\n",
              "      <td>...</td>\n",
              "      <td>...</td>\n",
              "      <td>...</td>\n",
              "      <td>...</td>\n",
              "      <td>...</td>\n",
              "      <td>...</td>\n",
              "      <td>...</td>\n",
              "      <td>...</td>\n",
              "      <td>...</td>\n",
              "      <td>...</td>\n",
              "      <td>...</td>\n",
              "      <td>...</td>\n",
              "      <td>...</td>\n",
              "    </tr>\n",
              "    <tr>\n",
              "      <th>64</th>\n",
              "      <td>69</td>\n",
              "      <td>Mobile Subscribers</td>\n",
              "      <td>122173569</td>\n",
              "      <td>1.0</td>\n",
              "      <td>Total Internet subscribers</td>\n",
              "      <td>2020.0</td>\n",
              "      <td>10264995.67</td>\n",
              "      <td>per population (%)</td>\n",
              "      <td>0.1510</td>\n",
              "      <td>per household (%)</td>\n",
              "      <td>0.469344</td>\n",
              "      <td>high_subscriber</td>\n",
              "      <td>high_household</td>\n",
              "      <td>high_population</td>\n",
              "      <td>high_mobile</td>\n",
              "    </tr>\n",
              "    <tr>\n",
              "      <th>65</th>\n",
              "      <td>70</td>\n",
              "      <td>Mobile Subscribers</td>\n",
              "      <td>124366678</td>\n",
              "      <td>2.0</td>\n",
              "      <td>Total Internet subscribers</td>\n",
              "      <td>2020.0</td>\n",
              "      <td>10912996.14</td>\n",
              "      <td>per population (%)</td>\n",
              "      <td>0.1605</td>\n",
              "      <td>per household (%)</td>\n",
              "      <td>0.498972</td>\n",
              "      <td>high_subscriber</td>\n",
              "      <td>high_household</td>\n",
              "      <td>high_population</td>\n",
              "      <td>high_mobile</td>\n",
              "    </tr>\n",
              "    <tr>\n",
              "      <th>66</th>\n",
              "      <td>71</td>\n",
              "      <td>Mobile Subscribers</td>\n",
              "      <td>126137528</td>\n",
              "      <td>3.0</td>\n",
              "      <td>Total Internet subscribers</td>\n",
              "      <td>2020.0</td>\n",
              "      <td>11282645.58</td>\n",
              "      <td>per population (%)</td>\n",
              "      <td>0.1659</td>\n",
              "      <td>per household (%)</td>\n",
              "      <td>0.515873</td>\n",
              "      <td>high_subscriber</td>\n",
              "      <td>high_household</td>\n",
              "      <td>high_population</td>\n",
              "      <td>high_mobile</td>\n",
              "    </tr>\n",
              "    <tr>\n",
              "      <th>67</th>\n",
              "      <td>72</td>\n",
              "      <td>Mobile Subscribers</td>\n",
              "      <td>129613743</td>\n",
              "      <td>4.0</td>\n",
              "      <td>Total Internet subscribers</td>\n",
              "      <td>2020.0</td>\n",
              "      <td>11478264.92</td>\n",
              "      <td>per population (%)</td>\n",
              "      <td>0.1685</td>\n",
              "      <td>per household (%)</td>\n",
              "      <td>0.514683</td>\n",
              "      <td>high_subscriber</td>\n",
              "      <td>high_household</td>\n",
              "      <td>high_population</td>\n",
              "      <td>high_mobile</td>\n",
              "    </tr>\n",
              "    <tr>\n",
              "      <th>68</th>\n",
              "      <td>73</td>\n",
              "      <td>Mobile Subscribers</td>\n",
              "      <td>132594791</td>\n",
              "      <td>1.0</td>\n",
              "      <td>Total Internet subscribers</td>\n",
              "      <td>2021.0</td>\n",
              "      <td>11876158.44</td>\n",
              "      <td>per population (%)</td>\n",
              "      <td>0.1740</td>\n",
              "      <td>per household (%)</td>\n",
              "      <td>0.532524</td>\n",
              "      <td>high_subscriber</td>\n",
              "      <td>high_household</td>\n",
              "      <td>high_population</td>\n",
              "      <td>high_mobile</td>\n",
              "    </tr>\n",
              "  </tbody>\n",
              "</table>\n",
              "<p>69 rows × 15 columns</p>\n",
              "</div>"
            ],
            "text/plain": [
              "    no. Mobile Market Report  ...  population_group  mobile_group\n",
              "0     5   Mobile Subscribers  ...    low_population    low_mobile\n",
              "1     6   Mobile Subscribers  ...    low_population    low_mobile\n",
              "2     7   Mobile Subscribers  ...    low_population    low_mobile\n",
              "3     8   Mobile Subscribers  ...    low_population    low_mobile\n",
              "4     9   Mobile Subscribers  ...    low_population    low_mobile\n",
              "..  ...                  ...  ...               ...           ...\n",
              "64   69   Mobile Subscribers  ...   high_population   high_mobile\n",
              "65   70   Mobile Subscribers  ...   high_population   high_mobile\n",
              "66   71   Mobile Subscribers  ...   high_population   high_mobile\n",
              "67   72   Mobile Subscribers  ...   high_population   high_mobile\n",
              "68   73   Mobile Subscribers  ...   high_population   high_mobile\n",
              "\n",
              "[69 rows x 15 columns]"
            ]
          },
          "metadata": {},
          "execution_count": 32
        }
      ]
    },
    {
      "cell_type": "markdown",
      "metadata": {
        "id": "tR5WmTOgXyQd"
      },
      "source": [
        "#**ตัดตารางให้เหลือแต่กลุ่มของ column ที่ต้องการใช้**"
      ]
    },
    {
      "cell_type": "code",
      "metadata": {
        "id": "1gqWAcmxXxMr",
        "colab": {
          "base_uri": "https://localhost:8080/"
        },
        "outputId": "b8b91c03-a083-47a5-ba8e-16fefe2004af"
      },
      "source": [
        "merge_table3_drop.columns  #เรียกดูชื่อ column"
      ],
      "execution_count": 33,
      "outputs": [
        {
          "output_type": "execute_result",
          "data": {
            "text/plain": [
              "Index(['no.', 'Mobile Market Report', 'value_mobile', 'quarter',\n",
              "       'Thailand Internet Users_subscriber', 'year', 'value_subscriber',\n",
              "       'type_population', 'value_population', 'type_household',\n",
              "       'value_household', 'subscriber_group', 'household_group',\n",
              "       'population_group', 'mobile_group'],\n",
              "      dtype='object')"
            ]
          },
          "metadata": {},
          "execution_count": 33
        }
      ]
    },
    {
      "cell_type": "code",
      "metadata": {
        "id": "ZbT2zB65X2eD",
        "colab": {
          "base_uri": "https://localhost:8080/",
          "height": 417
        },
        "outputId": "6f191b0d-7d9a-48ed-8de4-440692832e7b"
      },
      "source": [
        "data_cut = merge_table3_drop[['subscriber_group', 'household_group', 'population_group', 'mobile_group']]  #เลือก column ที่ต้องการนำไปใช้งาน\n",
        "data_cut"
      ],
      "execution_count": 34,
      "outputs": [
        {
          "output_type": "execute_result",
          "data": {
            "text/html": [
              "<div>\n",
              "<style scoped>\n",
              "    .dataframe tbody tr th:only-of-type {\n",
              "        vertical-align: middle;\n",
              "    }\n",
              "\n",
              "    .dataframe tbody tr th {\n",
              "        vertical-align: top;\n",
              "    }\n",
              "\n",
              "    .dataframe thead th {\n",
              "        text-align: right;\n",
              "    }\n",
              "</style>\n",
              "<table border=\"1\" class=\"dataframe\">\n",
              "  <thead>\n",
              "    <tr style=\"text-align: right;\">\n",
              "      <th></th>\n",
              "      <th>subscriber_group</th>\n",
              "      <th>household_group</th>\n",
              "      <th>population_group</th>\n",
              "      <th>mobile_group</th>\n",
              "    </tr>\n",
              "  </thead>\n",
              "  <tbody>\n",
              "    <tr>\n",
              "      <th>0</th>\n",
              "      <td>low_subscriber</td>\n",
              "      <td>low_household</td>\n",
              "      <td>low_population</td>\n",
              "      <td>low_mobile</td>\n",
              "    </tr>\n",
              "    <tr>\n",
              "      <th>1</th>\n",
              "      <td>low_subscriber</td>\n",
              "      <td>low_household</td>\n",
              "      <td>low_population</td>\n",
              "      <td>low_mobile</td>\n",
              "    </tr>\n",
              "    <tr>\n",
              "      <th>2</th>\n",
              "      <td>low_subscriber</td>\n",
              "      <td>low_household</td>\n",
              "      <td>low_population</td>\n",
              "      <td>low_mobile</td>\n",
              "    </tr>\n",
              "    <tr>\n",
              "      <th>3</th>\n",
              "      <td>low_subscriber</td>\n",
              "      <td>low_household</td>\n",
              "      <td>low_population</td>\n",
              "      <td>low_mobile</td>\n",
              "    </tr>\n",
              "    <tr>\n",
              "      <th>4</th>\n",
              "      <td>low_subscriber</td>\n",
              "      <td>low_household</td>\n",
              "      <td>low_population</td>\n",
              "      <td>low_mobile</td>\n",
              "    </tr>\n",
              "    <tr>\n",
              "      <th>...</th>\n",
              "      <td>...</td>\n",
              "      <td>...</td>\n",
              "      <td>...</td>\n",
              "      <td>...</td>\n",
              "    </tr>\n",
              "    <tr>\n",
              "      <th>64</th>\n",
              "      <td>high_subscriber</td>\n",
              "      <td>high_household</td>\n",
              "      <td>high_population</td>\n",
              "      <td>high_mobile</td>\n",
              "    </tr>\n",
              "    <tr>\n",
              "      <th>65</th>\n",
              "      <td>high_subscriber</td>\n",
              "      <td>high_household</td>\n",
              "      <td>high_population</td>\n",
              "      <td>high_mobile</td>\n",
              "    </tr>\n",
              "    <tr>\n",
              "      <th>66</th>\n",
              "      <td>high_subscriber</td>\n",
              "      <td>high_household</td>\n",
              "      <td>high_population</td>\n",
              "      <td>high_mobile</td>\n",
              "    </tr>\n",
              "    <tr>\n",
              "      <th>67</th>\n",
              "      <td>high_subscriber</td>\n",
              "      <td>high_household</td>\n",
              "      <td>high_population</td>\n",
              "      <td>high_mobile</td>\n",
              "    </tr>\n",
              "    <tr>\n",
              "      <th>68</th>\n",
              "      <td>high_subscriber</td>\n",
              "      <td>high_household</td>\n",
              "      <td>high_population</td>\n",
              "      <td>high_mobile</td>\n",
              "    </tr>\n",
              "  </tbody>\n",
              "</table>\n",
              "<p>69 rows × 4 columns</p>\n",
              "</div>"
            ],
            "text/plain": [
              "   subscriber_group household_group population_group mobile_group\n",
              "0    low_subscriber   low_household   low_population   low_mobile\n",
              "1    low_subscriber   low_household   low_population   low_mobile\n",
              "2    low_subscriber   low_household   low_population   low_mobile\n",
              "3    low_subscriber   low_household   low_population   low_mobile\n",
              "4    low_subscriber   low_household   low_population   low_mobile\n",
              "..              ...             ...              ...          ...\n",
              "64  high_subscriber  high_household  high_population  high_mobile\n",
              "65  high_subscriber  high_household  high_population  high_mobile\n",
              "66  high_subscriber  high_household  high_population  high_mobile\n",
              "67  high_subscriber  high_household  high_population  high_mobile\n",
              "68  high_subscriber  high_household  high_population  high_mobile\n",
              "\n",
              "[69 rows x 4 columns]"
            ]
          },
          "metadata": {},
          "execution_count": 34
        }
      ]
    },
    {
      "cell_type": "code",
      "metadata": {
        "id": "rmlor-CYX5D8",
        "colab": {
          "base_uri": "https://localhost:8080/"
        },
        "outputId": "81a2962b-9ec8-4fbe-afbd-ace4025e45be"
      },
      "source": [
        "data_cut.shape"
      ],
      "execution_count": 35,
      "outputs": [
        {
          "output_type": "execute_result",
          "data": {
            "text/plain": [
              "(69, 4)"
            ]
          },
          "metadata": {},
          "execution_count": 35
        }
      ]
    },
    {
      "cell_type": "markdown",
      "metadata": {
        "id": "BRXpFeGJrnE1"
      },
      "source": [
        "#**Association ตาราง data_cut**\n",
        "โดยกำหนดให้\n",
        "\n",
        "* **Transection** คือ ข้อมูล Internet ความเร็วสูง\n",
        "\n",
        "* **item** คือ low , median , high\n",
        "\n",
        "* **ค่าสนับสนุน (Support)** คือ เปอร์เซ็นต์ของจำนวน Item sets ทั้งหมดที่เกิดขึ้นในฐานข้อมูล\n",
        "\n",
        "* **ค่าความเชื่อมั่น (Confidence)** คือ เปอร์เซ็นต์ของจำนวน Item sets ทั้งหมดที่เกิดขึ้นในฐานข้อมูลต่อจำนวน Item sets ที่เกิดขึ้น\n",
        "\n",
        "* **ค่าสหสัมพันธ์ (Lift)** คือ ค่าที่บ่งบอกว่ากฎมีความสัมพันธ์กัน หรือไม่ โดยถ้า Lift มีค่ามากกว่า 1 แสดงว่ากฎทั้งสองมีความสัมพันธ์กัน\n"
      ]
    },
    {
      "cell_type": "code",
      "metadata": {
        "id": "qFnXuaNUrupA"
      },
      "source": [
        "Transection = []  #กำหนด Transection ให้เป็น list ว่าง\n",
        "for i in range(0,len(data_cut)):\n",
        "  Transection.append([str(data_cut.values[i,j]) for j in range(0,4)])"
      ],
      "execution_count": 36,
      "outputs": []
    },
    {
      "cell_type": "code",
      "metadata": {
        "colab": {
          "base_uri": "https://localhost:8080/"
        },
        "id": "97Exvvdor8I0",
        "outputId": "907af0a5-3b0e-49c6-a949-def2d3d8ed01"
      },
      "source": [
        "!pip install apyori  #ทำการติดตั้งแพ็คเกจ apyori"
      ],
      "execution_count": 37,
      "outputs": [
        {
          "output_type": "stream",
          "name": "stdout",
          "text": [
            "Collecting apyori\n",
            "  Downloading apyori-1.1.2.tar.gz (8.6 kB)\n",
            "Building wheels for collected packages: apyori\n",
            "  Building wheel for apyori (setup.py) ... \u001b[?25l\u001b[?25hdone\n",
            "  Created wheel for apyori: filename=apyori-1.1.2-py3-none-any.whl size=5974 sha256=eecc2c08729142314418331db92b33669f3e71900d6c6382f906493e2c9ea008\n",
            "  Stored in directory: /root/.cache/pip/wheels/cb/f6/e1/57973c631d27efd1a2f375bd6a83b2a616c4021f24aab84080\n",
            "Successfully built apyori\n",
            "Installing collected packages: apyori\n",
            "Successfully installed apyori-1.1.2\n"
          ]
        }
      ]
    },
    {
      "cell_type": "code",
      "metadata": {
        "id": "7JV6yqwPr--Q"
      },
      "source": [
        "from apyori import apriori"
      ],
      "execution_count": 38,
      "outputs": []
    },
    {
      "cell_type": "code",
      "metadata": {
        "colab": {
          "base_uri": "https://localhost:8080/"
        },
        "id": "r2FKOYVSsBEg",
        "outputId": "6ae10558-00d9-4a53-8d39-56d30d096c99"
      },
      "source": [
        "Association = list(apriori(Transection,min_support = 0.4, min_cofidence = 0.4))\n",
        "Association\n",
        "# min_support คือ ค่าสนับสนุนต่ำสุดที่ยอมรับได้ ต่ำกว่านี้จะไม่นำไปวิเคราะห์\n",
        "# min_confidence คือ ค่าเชื่อมั่นต่ำสุดที่สนใจ"
      ],
      "execution_count": 39,
      "outputs": [
        {
          "output_type": "execute_result",
          "data": {
            "text/plain": [
              "[RelationRecord(items=frozenset({'high_subscriber'}), support=0.42028985507246375, ordered_statistics=[OrderedStatistic(items_base=frozenset(), items_add=frozenset({'high_subscriber'}), confidence=0.42028985507246375, lift=1.0)]),\n",
              " RelationRecord(items=frozenset({'low_population'}), support=0.4057971014492754, ordered_statistics=[OrderedStatistic(items_base=frozenset(), items_add=frozenset({'low_population'}), confidence=0.4057971014492754, lift=1.0)]),\n",
              " RelationRecord(items=frozenset({'median_household'}), support=0.43478260869565216, ordered_statistics=[OrderedStatistic(items_base=frozenset(), items_add=frozenset({'median_household'}), confidence=0.43478260869565216, lift=1.0)]),\n",
              " RelationRecord(items=frozenset({'median_mobile'}), support=0.4492753623188406, ordered_statistics=[OrderedStatistic(items_base=frozenset(), items_add=frozenset({'median_mobile'}), confidence=0.4492753623188406, lift=1.0)]),\n",
              " RelationRecord(items=frozenset({'median_household', 'median_mobile'}), support=0.43478260869565216, ordered_statistics=[OrderedStatistic(items_base=frozenset(), items_add=frozenset({'median_household', 'median_mobile'}), confidence=0.43478260869565216, lift=1.0), OrderedStatistic(items_base=frozenset({'median_household'}), items_add=frozenset({'median_mobile'}), confidence=1.0, lift=2.225806451612903), OrderedStatistic(items_base=frozenset({'median_mobile'}), items_add=frozenset({'median_household'}), confidence=0.967741935483871, lift=2.2258064516129035)])]"
            ]
          },
          "metadata": {},
          "execution_count": 39
        }
      ]
    },
    {
      "cell_type": "markdown",
      "metadata": {
        "id": "KT7nogw4sHUP"
      },
      "source": [
        "###**แปลผล**\n",
        "\n",
        "* RelationRecord(items=frozenset({'high_subscriber'}), support=0.42028985507246375, ordered_statistics=[OrderedStatistic(items_base=frozenset(), items_add=frozenset({'high_subscriber'}), confidence=0.42028985507246375, lift=1.0)])\n",
        "\n",
        "    หมายถึง : จำนวนผู้ลงทะเบียนใช้บริการอินเทอร์เน็ตความเร็วสูงอยู่ในระดับสูง มีค่าสนับสนุนต่ำสุดที่ยอมรับได้ 42.03 % ค่าเชื่อมั่นต่ำสุดที่สนใจ 42.03 % ค่า lift เท่ากับ 1\n",
        "\n",
        "* RelationRecord(items=frozenset({'low_population'}), support=0.4057971014492754, ordered_statistics=[OrderedStatistic(items_base=frozenset(), items_add=frozenset({'low_population'}), confidence=0.4057971014492754, lift=1.0)]\n",
        "\n",
        "    หมายถึง : อัตราการเข้าถึงของบริการอินเทอร์เน็ตความเร็วสูงต่อจำนวนประชากรอยู่ในระดับต่ำ มีค่าสนับสนุนต่ำสุดที่ยอมรับได้ 40.58 % ค่าเชื่อมั่นต่ำสุดที่สนใจ 40.58 % ค่า lift เท่ากับ 1\n",
        "\n",
        "* RelationRecord(items=frozenset({'median_household'}), support=0.43478260869565216, ordered_statistics=[OrderedStatistic(items_base=frozenset(), items_add=frozenset({'median_household'}), confidence=0.43478260869565216, lift=1.0)]),\n",
        "\n",
        "    หมายถึง : ตราการเข้าถึงของบริการอินเทอร์เน็ตความเร็วสูงต่อจำนวนครัวเรือนอยู่ในระดับกลาง มีค่าสนับสนุนต่ำสุดที่ยอมรับได้ 43.48 % ค่าเชื่อมั่นต่ำสุดที่สนใจ 43.48 % ค่า lift เท่ากับ 1\n",
        "\n",
        "* RelationRecord(items=frozenset({'median_mobile'}), support=0.4492753623188406, ordered_statistics=[OrderedStatistic(items_base=frozenset(), items_add=frozenset({'median_mobile'}), confidence=0.4492753623188406, lift=1.0)]),\n",
        "\n",
        "    หมายถึง : จำนวนเลขหมายโทรศัพท์เคลื่อนที่ที่ได้รับการจดทะเบียนอยู่ในระดับกลาง มีค่าสนับสนุนต่ำสุดที่ยอมรับได้ 44.93 % ค่าเชื่อมั่นต่ำสุดที่สนใจ 44.93 % ค่า lift เท่ากับ 1\n",
        "\n",
        "* **จากกฏ 4 ข้อด้านบนจะสังเกตเห็นว่าค่า lift = 1 แสดงว่ากฏพวกนี้ยังไม่น่าสำคัญและยังไม่น่าสนใจ**\n",
        "\n",
        "* RelationRecord(items=frozenset({'median_household', 'median_mobile'}), support=0.43478260869565216, ordered_statistics=[OrderedStatistic(items_base=frozenset(), items_add=frozenset({'median_household', 'median_mobile'}), confidence=0.43478260869565216, lift=1.0), OrderedStatistic(items_base=frozenset({'median_household'}), items_add=frozenset({'median_mobile'}), confidence=1.0, lift=2.225806451612903), OrderedStatistic(items_base=frozenset({'median_mobile'}), items_add=frozenset({'median_household'}), confidence=0.967741935483871, lift=2.2258064516129035)])\n",
        "\n",
        "    หมายถึง :  \n",
        "    * RelationRecord\n",
        "(items=frozenset({'median_mobile', 'median_household'}), support=0.43478260869565216 \n",
        "\n",
        "    หมายถึง ค่าสนับสนุนต่ำสุดที่ยอมรับได้ของทั้ง 2 itemsets คือ อัตราการเข้าถึงของบริการอินเทอร์เน็ตความเร็วสูงต่อจำนวนครัวเรือนอยู่ในระดับปานกลางและจำนวนเลขหมายโทรศัพท์เคลื่อนที่ที่ได้รับการจดทะเบียนอยู่ในระดับปานกลาง มีค่าสนับสนุนต่ำสุดที่ยอมรับได้ทั้งหมด 43.48 %\n",
        "\n",
        "    * OrderedStatistic(items_base=frozenset({'median_household'}), items_add=frozenset({'median_mobile'}), confidence=1.0, lift=2.225806451612903) \n",
        "\n",
        "    หมายถึง มีการเข้าถึงบริการอินเทอร์เน็ตความเร็วสูงต่อครัวเรือนที่อยู่ในระดับกลาง จึงค่อยมีการจดทะเบียนหมายเลขโทรศัพท์เคลื่อนที่ที่อยู่ในระดับกลางมีค่าเชื่อมั่นต่ำสุดที่สนใจทั้งหมด 100 %\n",
        "\n",
        "    * OrderedStatistic(items_base=frozenset({'median_mobile'}), items_add=frozenset({'median_household'}), confidence=0.967741935483871, lift=2.2258064516129035)\n",
        "\n",
        "    หมายถึง มีการจดทะเบียนหมายเลขโทรศัพท์เคลื่อนที่ที่อยู่ในระดับกลางก่อนจึงค่อยมีการเข้าถึงบริการอินเทอร์เน็ตความเร็วสูงต่อครัวเรือนที่อยู่ในระดับกลาง มีค่าเชื่อมั่นต่ำสุดที่สนใจทั้งหมด 96.77 %\n",
        "\n",
        "    * code : lift=2.2258064516129035\n",
        "\n",
        "    หมายถึง กฏนี้น่าสนใจ มีความสัมพันธ์กันมา"
      ]
    },
    {
      "cell_type": "markdown",
      "metadata": {
        "id": "AY7GvrLfsfui"
      },
      "source": [
        "#**Visualization**"
      ]
    },
    {
      "cell_type": "markdown",
      "metadata": {
        "id": "Ia8W_RXx9yA9"
      },
      "source": [
        "กำหนดข้อมูลให้เป็นตัวเลขก่อน โดยข้อลที่ขึ้นต้นด้วย\n",
        "\n",
        "* low = 0\n",
        "* median = 1\n",
        "* high = 2\n",
        "\n",
        "\n",
        "\n"
      ]
    },
    {
      "cell_type": "code",
      "metadata": {
        "colab": {
          "base_uri": "https://localhost:8080/",
          "height": 840
        },
        "id": "zsKiur-BsJSV",
        "outputId": "092185af-4791-4252-f0e0-f9273b772a20"
      },
      "source": [
        "data_cut['subscriber_group'] = data_cut['subscriber_group'].map({'low_subscriber':0,'median_subscriber':1,'high_subscriber':2})\n",
        "data_cut['household_group'] = data_cut['household_group'].map({'low_household':0,'median_household':1,'high_household':2})\n",
        "data_cut['population_group'] = data_cut['population_group'].map({'low_population':0,'median_population':1,'high_population':2})\n",
        "data_cut['mobile_group'] = data_cut['mobile_group'].map({'low_mobile':0,'median_mobile':1,'high_mobile':2})\n",
        "data_cut"
      ],
      "execution_count": 40,
      "outputs": [
        {
          "output_type": "stream",
          "name": "stderr",
          "text": [
            "/usr/local/lib/python3.7/dist-packages/ipykernel_launcher.py:2: SettingWithCopyWarning: \n",
            "A value is trying to be set on a copy of a slice from a DataFrame.\n",
            "Try using .loc[row_indexer,col_indexer] = value instead\n",
            "\n",
            "See the caveats in the documentation: https://pandas.pydata.org/pandas-docs/stable/user_guide/indexing.html#returning-a-view-versus-a-copy\n",
            "  \n",
            "/usr/local/lib/python3.7/dist-packages/ipykernel_launcher.py:3: SettingWithCopyWarning: \n",
            "A value is trying to be set on a copy of a slice from a DataFrame.\n",
            "Try using .loc[row_indexer,col_indexer] = value instead\n",
            "\n",
            "See the caveats in the documentation: https://pandas.pydata.org/pandas-docs/stable/user_guide/indexing.html#returning-a-view-versus-a-copy\n",
            "  This is separate from the ipykernel package so we can avoid doing imports until\n",
            "/usr/local/lib/python3.7/dist-packages/ipykernel_launcher.py:4: SettingWithCopyWarning: \n",
            "A value is trying to be set on a copy of a slice from a DataFrame.\n",
            "Try using .loc[row_indexer,col_indexer] = value instead\n",
            "\n",
            "See the caveats in the documentation: https://pandas.pydata.org/pandas-docs/stable/user_guide/indexing.html#returning-a-view-versus-a-copy\n",
            "  after removing the cwd from sys.path.\n",
            "/usr/local/lib/python3.7/dist-packages/ipykernel_launcher.py:5: SettingWithCopyWarning: \n",
            "A value is trying to be set on a copy of a slice from a DataFrame.\n",
            "Try using .loc[row_indexer,col_indexer] = value instead\n",
            "\n",
            "See the caveats in the documentation: https://pandas.pydata.org/pandas-docs/stable/user_guide/indexing.html#returning-a-view-versus-a-copy\n",
            "  \"\"\"\n"
          ]
        },
        {
          "output_type": "execute_result",
          "data": {
            "text/html": [
              "<div>\n",
              "<style scoped>\n",
              "    .dataframe tbody tr th:only-of-type {\n",
              "        vertical-align: middle;\n",
              "    }\n",
              "\n",
              "    .dataframe tbody tr th {\n",
              "        vertical-align: top;\n",
              "    }\n",
              "\n",
              "    .dataframe thead th {\n",
              "        text-align: right;\n",
              "    }\n",
              "</style>\n",
              "<table border=\"1\" class=\"dataframe\">\n",
              "  <thead>\n",
              "    <tr style=\"text-align: right;\">\n",
              "      <th></th>\n",
              "      <th>subscriber_group</th>\n",
              "      <th>household_group</th>\n",
              "      <th>population_group</th>\n",
              "      <th>mobile_group</th>\n",
              "    </tr>\n",
              "  </thead>\n",
              "  <tbody>\n",
              "    <tr>\n",
              "      <th>0</th>\n",
              "      <td>0</td>\n",
              "      <td>0</td>\n",
              "      <td>0</td>\n",
              "      <td>0</td>\n",
              "    </tr>\n",
              "    <tr>\n",
              "      <th>1</th>\n",
              "      <td>0</td>\n",
              "      <td>0</td>\n",
              "      <td>0</td>\n",
              "      <td>0</td>\n",
              "    </tr>\n",
              "    <tr>\n",
              "      <th>2</th>\n",
              "      <td>0</td>\n",
              "      <td>0</td>\n",
              "      <td>0</td>\n",
              "      <td>0</td>\n",
              "    </tr>\n",
              "    <tr>\n",
              "      <th>3</th>\n",
              "      <td>0</td>\n",
              "      <td>0</td>\n",
              "      <td>0</td>\n",
              "      <td>0</td>\n",
              "    </tr>\n",
              "    <tr>\n",
              "      <th>4</th>\n",
              "      <td>0</td>\n",
              "      <td>0</td>\n",
              "      <td>0</td>\n",
              "      <td>0</td>\n",
              "    </tr>\n",
              "    <tr>\n",
              "      <th>...</th>\n",
              "      <td>...</td>\n",
              "      <td>...</td>\n",
              "      <td>...</td>\n",
              "      <td>...</td>\n",
              "    </tr>\n",
              "    <tr>\n",
              "      <th>64</th>\n",
              "      <td>2</td>\n",
              "      <td>2</td>\n",
              "      <td>2</td>\n",
              "      <td>2</td>\n",
              "    </tr>\n",
              "    <tr>\n",
              "      <th>65</th>\n",
              "      <td>2</td>\n",
              "      <td>2</td>\n",
              "      <td>2</td>\n",
              "      <td>2</td>\n",
              "    </tr>\n",
              "    <tr>\n",
              "      <th>66</th>\n",
              "      <td>2</td>\n",
              "      <td>2</td>\n",
              "      <td>2</td>\n",
              "      <td>2</td>\n",
              "    </tr>\n",
              "    <tr>\n",
              "      <th>67</th>\n",
              "      <td>2</td>\n",
              "      <td>2</td>\n",
              "      <td>2</td>\n",
              "      <td>2</td>\n",
              "    </tr>\n",
              "    <tr>\n",
              "      <th>68</th>\n",
              "      <td>2</td>\n",
              "      <td>2</td>\n",
              "      <td>2</td>\n",
              "      <td>2</td>\n",
              "    </tr>\n",
              "  </tbody>\n",
              "</table>\n",
              "<p>69 rows × 4 columns</p>\n",
              "</div>"
            ],
            "text/plain": [
              "   subscriber_group household_group population_group mobile_group\n",
              "0                 0               0                0            0\n",
              "1                 0               0                0            0\n",
              "2                 0               0                0            0\n",
              "3                 0               0                0            0\n",
              "4                 0               0                0            0\n",
              "..              ...             ...              ...          ...\n",
              "64                2               2                2            2\n",
              "65                2               2                2            2\n",
              "66                2               2                2            2\n",
              "67                2               2                2            2\n",
              "68                2               2                2            2\n",
              "\n",
              "[69 rows x 4 columns]"
            ]
          },
          "metadata": {},
          "execution_count": 40
        }
      ]
    },
    {
      "cell_type": "code",
      "metadata": {
        "id": "En3qUNCvsj6Z"
      },
      "source": [
        "from matplotlib import pyplot as plt"
      ],
      "execution_count": 41,
      "outputs": []
    },
    {
      "cell_type": "markdown",
      "metadata": {
        "id": "SrKrHKJC-RRd"
      },
      "source": [
        "ผล Asso code 1 มา plot กราฟ subscriber_group\n",
        "\n",
        "โดย high ดูกราฟที่ข้อมูลอยู่ในกลุ่ม high หรือ 2"
      ]
    },
    {
      "cell_type": "code",
      "metadata": {
        "colab": {
          "base_uri": "https://localhost:8080/",
          "height": 295
        },
        "id": "fQ1Xtd2WspTd",
        "outputId": "23f0bd38-5fb1-4251-d909-f9b61b8ce73a"
      },
      "source": [
        "plt.plot(range(len(data_cut.iloc[:,:-3])),data_cut.iloc[:,:-3],'*:r',alpha=0.5,label='subscriber_group') \n",
        "plt.ylabel('value')  # แกน y คือ value บอกว่าข้อมูลในแต่ละ column มีค่าข้อมูลเท่ากับเท่าไหร่  โดยค่าข้อมูลมี 3 ตัวตามที่ได้กำหนดไว้ คือ 0,1,2 \n",
        "plt.xlabel('no.')  # แกน x  คือ บอกว่าข้อมูลในแต่ละ column อยู่จุดที่เท่าไหร่\n",
        "plt.title('Compare data relationships')  # ชื่อกราฟคือ Compare data relationships/เปรียบเทียบความสัมพันธ์ของข้อมูล\n",
        "plt.legend();"
      ],
      "execution_count": 47,
      "outputs": [
        {
          "output_type": "display_data",
          "data": {
            "image/png": "[encoded data removed]",
            "text/plain": [
              "<Figure size 432x288 with 1 Axes>"
            ]
          },
          "metadata": {
            "needs_background": "light"
          }
        }
      ]
    },
    {
      "cell_type": "markdown",
      "metadata": {
        "id": "Bn66f-LW-YCq"
      },
      "source": [
        "ผล Asso code 2 มา plot กราฟ population_group\n",
        "\n",
        "โดย low_population ดูกราฟที่ข้อมูลอยู่ในกลุ่ม Low หรือ 0"
      ]
    },
    {
      "cell_type": "code",
      "metadata": {
        "id": "mq1p4ZYL-ZrS",
        "outputId": "132f96c3-1bec-45d1-9002-2dcbb8041572",
        "colab": {
          "base_uri": "https://localhost:8080/",
          "height": 295
        }
      },
      "source": [
        "plt.plot(range(len(data_cut.iloc[:,2:-1])),data_cut.iloc[:,2:-1],'*:g',alpha=0.5,label='population_group')  \n",
        "plt.ylabel('value')   # แกน y คือ value บอกว่าข้อมูลในแต่ละ column มีค่าข้อมูลเท่ากับเท่าไหร่  โดยค่าข้อมูลมี 3 ตัวตามที่ได้กำหนดไว้ คือ 0,1,2 \n",
        "plt.xlabel('no.')  # แกน x  คือ บอกว่าข้อมูลในแต่ละ column อยู่จุดที่เท่าไหร่\n",
        "plt.title('Compare data relationships')  # ชื่อกราฟคือ Compare data relationships/เปรียบเทียบความสัมพันธ์ของข้อมูล\n",
        "plt.legend();"
      ],
      "execution_count": 49,
      "outputs": [
        {
          "output_type": "display_data",
          "data": {
            "image/png": "[encoded data removed]",
            "text/plain": [
              "<Figure size 432x288 with 1 Axes>"
            ]
          },
          "metadata": {
            "needs_background": "light"
          }
        }
      ]
    },
    {
      "cell_type": "markdown",
      "metadata": {
        "id": "yqCx3rwC-ezW"
      },
      "source": [
        "ผล code 3 มา plot กราฟ household_group\n",
        "\n",
        "โดย median_household ดูกราฟที่ข้อมูลอยู่ในกลุ่ม Median/1"
      ]
    },
    {
      "cell_type": "code",
      "metadata": {
        "id": "DnneqqLy-dOU",
        "outputId": "e69423fd-c9cd-4643-941c-7d5ce8f8d5b5",
        "colab": {
          "base_uri": "https://localhost:8080/",
          "height": 295
        }
      },
      "source": [
        "plt.plot(range(len(data_cut.iloc[:,1:-2])),data_cut.iloc[:,1:-2],'*:y',alpha=0.5,label='household_group')  \n",
        "plt.ylabel('value')  # แกน y คือ value บอกว่าข้อมูลในแต่ละ column มีค่าข้อมูลเท่ากับเท่าไหร่  โดยค่าข้อมูลมี 3 ตัวตามที่ได้กำหนดไว้ คือ 0,1,2 \n",
        "plt.xlabel('no.')  # แกน x  คือ บอกว่าข้อมูลในแต่ละ column อยู่จุดที่เท่าไหร่\n",
        "plt.title('Compare data relationships')  # ชื่อกราฟคือ Compare data relationships/เปรียบเทียบความสัมพันธ์ของข้อมูล\n",
        "plt.legend();"
      ],
      "execution_count": 50,
      "outputs": [
        {
          "output_type": "display_data",
          "data": {
            "image/png": "[encoded data removed]",
            "text/plain": [
              "<Figure size 432x288 with 1 Axes>"
            ]
          },
          "metadata": {
            "needs_background": "light"
          }
        }
      ]
    },
    {
      "cell_type": "markdown",
      "metadata": {
        "id": "PH-xTesc_JCa"
      },
      "source": [
        "ผล Asso code 4 มา plot กราฟ mobile_group\n",
        "\n",
        "โดย median_mobile ดูกราฟที่ข้อมูลอยู่ในกลุ่ม Median/1"
      ]
    },
    {
      "cell_type": "code",
      "metadata": {
        "id": "m5q6nOn-_GUA",
        "outputId": "e1fa4afe-088d-4ff3-c3e0-de8dcd1854d3",
        "colab": {
          "base_uri": "https://localhost:8080/",
          "height": 295
        }
      },
      "source": [
        "plt.plot(range(len(data_cut.iloc[:,3:])),data_cut.iloc[:,3:],'*:b',alpha=0.5,label='mobile_group')  \n",
        "plt.ylabel('value')  # แกน y คือ value บอกว่าข้อมูลในแต่ละ column มีค่าข้อมูลเท่ากับเท่าไหร่  โดยค่าข้อมูลมี 3 ตัวตามที่ได้กำหนดไว้ คือ 0,1,2 \n",
        "plt.xlabel('no.')  # แกน x  คือ บอกว่าข้อมูลในแต่ละ column อยู่จุดที่เท่าไหร่\n",
        "plt.title('Compare data relationships')  # ชื่อกราฟคือ Compare data relationships/เปรียบเทียบความสัมพันธ์ของข้อมูล\n",
        "plt.legend();"
      ],
      "execution_count": 51,
      "outputs": [
        {
          "output_type": "display_data",
          "data": {
            "image/png": "[encoded data removed]",
            "text/plain": [
              "<Figure size 432x288 with 1 Axes>"
            ]
          },
          "metadata": {
            "needs_background": "light"
          }
        }
      ]
    },
    {
      "cell_type": "markdown",
      "metadata": {
        "id": "t6lkF-8B_Pnb"
      },
      "source": [
        "ผล Asso code 5 มา plot กราฟ household_group กับ mobile_group\n",
        "\n",
        "median_household กับ median_mobile ดูกราฟตรงที่ข้อมูลอยู่ในกลุ่ม median/1"
      ]
    },
    {
      "cell_type": "code",
      "metadata": {
        "id": "sxL7f6a3_Sj3",
        "outputId": "1d1e47a1-20d3-4e6d-b836-d3e87b275ac7",
        "colab": {
          "base_uri": "https://localhost:8080/",
          "height": 295
        }
      },
      "source": [
        "plt.plot(range(len(data_cut.iloc[:,1:-2])),data_cut.iloc[:,1:-2],'*:y',alpha=0.5,label='household_group')  #household_group คือสี y = สีเหลือง\n",
        "plt.plot(range(len(data_cut.iloc[:,3:])),data_cut.iloc[:,3:],'*:b',alpha=0.5,label='mobile_group')  # mobile_group คือสี b= สีน้ำเงิน\n",
        "plt.ylabel('value')  # แกน y คือ value บอกว่าข้อมูลในแต่ละ column มีค่าข้อมูลเท่ากับเท่าไหร่  โดยค่าข้อมูลมี 3 ตัวตามที่ได้กำหนดไว้ คือ 0,1,2 \n",
        "plt.xlabel('no.')  # แกน x  คือ บอกว่าข้อมูลในแต่ละ column อยู่จุดที่เท่าไหร่\n",
        "plt.title('Compare data relationships')  # ชื่อกราฟคือ Compare data relationships/เปรียบเทียบความสัมพันธ์ของข้อมูล\n",
        "plt.legend();"
      ],
      "execution_count": 52,
      "outputs": [
        {
          "output_type": "display_data",
          "data": {
            "image/png": "[encoded data removed]",
            "text/plain": [
              "<Figure size 432x288 with 1 Axes>"
            ]
          },
          "metadata": {
            "needs_background": "light"
          }
        }
      ]
    },
    {
      "cell_type": "markdown",
      "metadata": {
        "id": "PAhF91bk_lD3"
      },
      "source": [
        "เปรียบเทียบข้อมูลทุก column\n",
        "\n",
        "ยกตัวอย่างเช่น ข้อมูล Mobile group ที่ No.10 ก็จะจัดอยู่ในกลุ่มที่ 0 คือในระดับ Low และข้อมูลsubscriber_group ที่ No.10 ก็จะจัดอยู่ในกลุ่มที่ 0 เช่นกัน"
      ]
    },
    {
      "cell_type": "code",
      "metadata": {
        "id": "1VC31DTy_pO-",
        "outputId": "f761d4c8-69a6-4396-bdc6-cce59d8c9041",
        "colab": {
          "base_uri": "https://localhost:8080/",
          "height": 295
        }
      },
      "source": [
        "plt.plot(range(len(data_cut.iloc[:,:-3])),data_cut.iloc[:,:-3],'*:r',alpha=0.5,label='subscriber_group')   #  subscriber_group คือสี r = สีแดง\n",
        "plt.plot(range(len(data_cut.iloc[:,1:-2])),data_cut.iloc[:,1:-2],'*:y',alpha=0.5,label='household_group')  # household_group คือสี y = สีเหลือง\n",
        "plt.plot(range(len(data_cut.iloc[:,2:-1])),data_cut.iloc[:,2:-1],'*:g',alpha=0.5,label='population_group')  #  population_group คือสี g = สีเขียว\n",
        "plt.plot(range(len(data_cut.iloc[:,3:])),data_cut.iloc[:,3:],'*:b',alpha=0.5,label='mobile_group')  #  mobile_group คือสี b = สีน้ำเงิน\n",
        "plt.ylabel('value') # แกน y คือ value บอกว่าข้อมูลในแต่ละ column มีค่าข้อมูลเท่ากับเท่าไหร่  โดยค่าข้อมูลมี 3 ตัวตามที่ได้กำหนดไว้ คือ 0,1,2\n",
        "plt.xlabel('no.')  # แกน x  คือ บอกว่าข้อมูลในแต่ละ column อยู่จุดที่เท่าไหร่\n",
        "plt.title('Compare data relationships')  # ชื่อกราฟคือ Compare data relationships/เปรียบเทียบความสัมพันธ์ของข้อมูล\n",
        "plt.legend();"
      ],
      "execution_count": 53,
      "outputs": [
        {
          "output_type": "display_data",
          "data": {
            "image/png": "[encoded data removed]",
            "text/plain": [
              "<Figure size 432x288 with 1 Axes>"
            ]
          },
          "metadata": {
            "needs_background": "light"
          }
        }
      ]
    },
    {
      "cell_type": "code",
      "metadata": {
        "id": "rgc4wpRiAF7V",
        "outputId": "dd2b6ba6-2d84-45cb-a7a5-73a8ecb9b32d",
        "colab": {
          "base_uri": "https://localhost:8080/",
          "height": 80
        }
      },
      "source": [
        "data_cut.iloc[20:-48,:-3]  #จากการเรียกดูข้อมูลพบว่าตรงกับส่วนที่อยู่ในกราฟคือ No. จัดอยู่ในกลุ่มที่  หรือ median"
      ],
      "execution_count": 54,
      "outputs": [
        {
          "output_type": "execute_result",
          "data": {
            "text/html": [
              "<div>\n",
              "<style scoped>\n",
              "    .dataframe tbody tr th:only-of-type {\n",
              "        vertical-align: middle;\n",
              "    }\n",
              "\n",
              "    .dataframe tbody tr th {\n",
              "        vertical-align: top;\n",
              "    }\n",
              "\n",
              "    .dataframe thead th {\n",
              "        text-align: right;\n",
              "    }\n",
              "</style>\n",
              "<table border=\"1\" class=\"dataframe\">\n",
              "  <thead>\n",
              "    <tr style=\"text-align: right;\">\n",
              "      <th></th>\n",
              "      <th>subscriber_group</th>\n",
              "    </tr>\n",
              "  </thead>\n",
              "  <tbody>\n",
              "    <tr>\n",
              "      <th>20</th>\n",
              "      <td>1</td>\n",
              "    </tr>\n",
              "  </tbody>\n",
              "</table>\n",
              "</div>"
            ],
            "text/plain": [
              "   subscriber_group\n",
              "20                1"
            ]
          },
          "metadata": {},
          "execution_count": 54
        }
      ]
    }
  ]
}